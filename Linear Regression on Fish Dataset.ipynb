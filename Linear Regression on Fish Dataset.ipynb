{
 "cells": [
  {
   "cell_type": "code",
   "execution_count": 1,
   "id": "d8594b13",
   "metadata": {},
   "outputs": [],
   "source": [
    "#import all the necessary libraries\n",
    "import numpy as np\n",
    "import pandas as pd\n",
    "import matplotlib.pyplot as plt\n",
    "import seaborn as sns\n",
    "import statsmodels.api as sm\n",
    "import os\n",
    "import warnings\n",
    "%matplotlib inline\n",
    "from sklearn import linear_model\n",
    "from sklearn.datasets import make_regression\n",
    "from scipy.stats import pearsonr\n",
    "from scipy.stats import anderson,shapiro,kstest\n",
    "from sklearn.model_selection import train_test_split\n",
    "from sklearn.metrics import mean_squared_error,r2_score\n",
    "from statsmodels.stats.outliers_influence import variance_inflation_factor"
   ]
  },
  {
   "cell_type": "code",
   "execution_count": 2,
   "id": "121a5c05",
   "metadata": {},
   "outputs": [
    {
     "data": {
      "text/html": [
       "<div>\n",
       "<style scoped>\n",
       "    .dataframe tbody tr th:only-of-type {\n",
       "        vertical-align: middle;\n",
       "    }\n",
       "\n",
       "    .dataframe tbody tr th {\n",
       "        vertical-align: top;\n",
       "    }\n",
       "\n",
       "    .dataframe thead th {\n",
       "        text-align: right;\n",
       "    }\n",
       "</style>\n",
       "<table border=\"1\" class=\"dataframe\">\n",
       "  <thead>\n",
       "    <tr style=\"text-align: right;\">\n",
       "      <th></th>\n",
       "      <th>Species</th>\n",
       "      <th>Weight</th>\n",
       "      <th>Length1</th>\n",
       "      <th>Length2</th>\n",
       "      <th>Length3</th>\n",
       "      <th>Height</th>\n",
       "      <th>Width</th>\n",
       "    </tr>\n",
       "  </thead>\n",
       "  <tbody>\n",
       "    <tr>\n",
       "      <th>0</th>\n",
       "      <td>Bream</td>\n",
       "      <td>242.0</td>\n",
       "      <td>23.2</td>\n",
       "      <td>25.4</td>\n",
       "      <td>30.0</td>\n",
       "      <td>11.5200</td>\n",
       "      <td>4.0200</td>\n",
       "    </tr>\n",
       "    <tr>\n",
       "      <th>1</th>\n",
       "      <td>Bream</td>\n",
       "      <td>290.0</td>\n",
       "      <td>24.0</td>\n",
       "      <td>26.3</td>\n",
       "      <td>31.2</td>\n",
       "      <td>12.4800</td>\n",
       "      <td>4.3056</td>\n",
       "    </tr>\n",
       "    <tr>\n",
       "      <th>2</th>\n",
       "      <td>Bream</td>\n",
       "      <td>340.0</td>\n",
       "      <td>23.9</td>\n",
       "      <td>26.5</td>\n",
       "      <td>31.1</td>\n",
       "      <td>12.3778</td>\n",
       "      <td>4.6961</td>\n",
       "    </tr>\n",
       "    <tr>\n",
       "      <th>3</th>\n",
       "      <td>Bream</td>\n",
       "      <td>363.0</td>\n",
       "      <td>26.3</td>\n",
       "      <td>29.0</td>\n",
       "      <td>33.5</td>\n",
       "      <td>12.7300</td>\n",
       "      <td>4.4555</td>\n",
       "    </tr>\n",
       "    <tr>\n",
       "      <th>4</th>\n",
       "      <td>Bream</td>\n",
       "      <td>430.0</td>\n",
       "      <td>26.5</td>\n",
       "      <td>29.0</td>\n",
       "      <td>34.0</td>\n",
       "      <td>12.4440</td>\n",
       "      <td>5.1340</td>\n",
       "    </tr>\n",
       "  </tbody>\n",
       "</table>\n",
       "</div>"
      ],
      "text/plain": [
       "  Species  Weight  Length1  Length2  Length3   Height   Width\n",
       "0   Bream   242.0     23.2     25.4     30.0  11.5200  4.0200\n",
       "1   Bream   290.0     24.0     26.3     31.2  12.4800  4.3056\n",
       "2   Bream   340.0     23.9     26.5     31.1  12.3778  4.6961\n",
       "3   Bream   363.0     26.3     29.0     33.5  12.7300  4.4555\n",
       "4   Bream   430.0     26.5     29.0     34.0  12.4440  5.1340"
      ]
     },
     "execution_count": 2,
     "metadata": {},
     "output_type": "execute_result"
    }
   ],
   "source": [
    "#load dataset and display head or first 5 rows\n",
    "df=pd.read_csv(\"C:\\\\Users\\\\Abilash\\\\PGA21\\\\Fish_dataset.csv\")\n",
    "df.head()"
   ]
  },
  {
   "cell_type": "markdown",
   "id": "3172d509",
   "metadata": {},
   "source": [
    "# Getting basic information from the dataset:"
   ]
  },
  {
   "cell_type": "code",
   "execution_count": 3,
   "id": "5c5080b8",
   "metadata": {},
   "outputs": [
    {
     "name": "stdout",
     "output_type": "stream",
     "text": [
      "<class 'pandas.core.frame.DataFrame'>\n",
      "RangeIndex: 159 entries, 0 to 158\n",
      "Data columns (total 7 columns):\n",
      " #   Column   Non-Null Count  Dtype  \n",
      "---  ------   --------------  -----  \n",
      " 0   Species  159 non-null    object \n",
      " 1   Weight   159 non-null    float64\n",
      " 2   Length1  159 non-null    float64\n",
      " 3   Length2  159 non-null    float64\n",
      " 4   Length3  159 non-null    float64\n",
      " 5   Height   159 non-null    float64\n",
      " 6   Width    159 non-null    float64\n",
      "dtypes: float64(6), object(1)\n",
      "memory usage: 8.8+ KB\n"
     ]
    }
   ],
   "source": [
    "df.info()"
   ]
  },
  {
   "cell_type": "code",
   "execution_count": 4,
   "id": "bf9900b0",
   "metadata": {},
   "outputs": [
    {
     "data": {
      "text/html": [
       "<div>\n",
       "<style scoped>\n",
       "    .dataframe tbody tr th:only-of-type {\n",
       "        vertical-align: middle;\n",
       "    }\n",
       "\n",
       "    .dataframe tbody tr th {\n",
       "        vertical-align: top;\n",
       "    }\n",
       "\n",
       "    .dataframe thead th {\n",
       "        text-align: right;\n",
       "    }\n",
       "</style>\n",
       "<table border=\"1\" class=\"dataframe\">\n",
       "  <thead>\n",
       "    <tr style=\"text-align: right;\">\n",
       "      <th></th>\n",
       "      <th>Weight</th>\n",
       "      <th>Length1</th>\n",
       "      <th>Length2</th>\n",
       "      <th>Length3</th>\n",
       "      <th>Height</th>\n",
       "      <th>Width</th>\n",
       "    </tr>\n",
       "  </thead>\n",
       "  <tbody>\n",
       "    <tr>\n",
       "      <th>count</th>\n",
       "      <td>159.000000</td>\n",
       "      <td>159.000000</td>\n",
       "      <td>159.000000</td>\n",
       "      <td>159.000000</td>\n",
       "      <td>159.000000</td>\n",
       "      <td>159.000000</td>\n",
       "    </tr>\n",
       "    <tr>\n",
       "      <th>mean</th>\n",
       "      <td>398.326415</td>\n",
       "      <td>26.247170</td>\n",
       "      <td>28.415723</td>\n",
       "      <td>31.227044</td>\n",
       "      <td>8.970994</td>\n",
       "      <td>4.417486</td>\n",
       "    </tr>\n",
       "    <tr>\n",
       "      <th>std</th>\n",
       "      <td>357.978317</td>\n",
       "      <td>9.996441</td>\n",
       "      <td>10.716328</td>\n",
       "      <td>11.610246</td>\n",
       "      <td>4.286208</td>\n",
       "      <td>1.685804</td>\n",
       "    </tr>\n",
       "    <tr>\n",
       "      <th>min</th>\n",
       "      <td>0.000000</td>\n",
       "      <td>7.500000</td>\n",
       "      <td>8.400000</td>\n",
       "      <td>8.800000</td>\n",
       "      <td>1.728400</td>\n",
       "      <td>1.047600</td>\n",
       "    </tr>\n",
       "    <tr>\n",
       "      <th>25%</th>\n",
       "      <td>120.000000</td>\n",
       "      <td>19.050000</td>\n",
       "      <td>21.000000</td>\n",
       "      <td>23.150000</td>\n",
       "      <td>5.944800</td>\n",
       "      <td>3.385650</td>\n",
       "    </tr>\n",
       "    <tr>\n",
       "      <th>50%</th>\n",
       "      <td>273.000000</td>\n",
       "      <td>25.200000</td>\n",
       "      <td>27.300000</td>\n",
       "      <td>29.400000</td>\n",
       "      <td>7.786000</td>\n",
       "      <td>4.248500</td>\n",
       "    </tr>\n",
       "    <tr>\n",
       "      <th>75%</th>\n",
       "      <td>650.000000</td>\n",
       "      <td>32.700000</td>\n",
       "      <td>35.500000</td>\n",
       "      <td>39.650000</td>\n",
       "      <td>12.365900</td>\n",
       "      <td>5.584500</td>\n",
       "    </tr>\n",
       "    <tr>\n",
       "      <th>max</th>\n",
       "      <td>1650.000000</td>\n",
       "      <td>59.000000</td>\n",
       "      <td>63.400000</td>\n",
       "      <td>68.000000</td>\n",
       "      <td>18.957000</td>\n",
       "      <td>8.142000</td>\n",
       "    </tr>\n",
       "  </tbody>\n",
       "</table>\n",
       "</div>"
      ],
      "text/plain": [
       "            Weight     Length1     Length2     Length3      Height       Width\n",
       "count   159.000000  159.000000  159.000000  159.000000  159.000000  159.000000\n",
       "mean    398.326415   26.247170   28.415723   31.227044    8.970994    4.417486\n",
       "std     357.978317    9.996441   10.716328   11.610246    4.286208    1.685804\n",
       "min       0.000000    7.500000    8.400000    8.800000    1.728400    1.047600\n",
       "25%     120.000000   19.050000   21.000000   23.150000    5.944800    3.385650\n",
       "50%     273.000000   25.200000   27.300000   29.400000    7.786000    4.248500\n",
       "75%     650.000000   32.700000   35.500000   39.650000   12.365900    5.584500\n",
       "max    1650.000000   59.000000   63.400000   68.000000   18.957000    8.142000"
      ]
     },
     "execution_count": 4,
     "metadata": {},
     "output_type": "execute_result"
    }
   ],
   "source": [
    "#perform quick descriptive statistics on the dataset\n",
    "df.describe()"
   ]
  },
  {
   "cell_type": "markdown",
   "id": "f3759167",
   "metadata": {},
   "source": [
    "# The above describe() function provides descriptive statistics values like mean and standard deviation, quantile(25%,50% and 75%), count of each feature, and minimum and maximum values in each feature."
   ]
  },
  {
   "cell_type": "code",
   "execution_count": 5,
   "id": "abef4045",
   "metadata": {},
   "outputs": [
    {
     "data": {
      "text/plain": [
       "Species    0\n",
       "Weight     0\n",
       "Length1    0\n",
       "Length2    0\n",
       "Length3    0\n",
       "Height     0\n",
       "Width      0\n",
       "dtype: int64"
      ]
     },
     "execution_count": 5,
     "metadata": {},
     "output_type": "execute_result"
    }
   ],
   "source": [
    "#checking if there are any missing values:\n",
    "df.isnull().sum()"
   ]
  },
  {
   "cell_type": "code",
   "execution_count": 6,
   "id": "dd3e0e48",
   "metadata": {},
   "outputs": [
    {
     "name": "stdout",
     "output_type": "stream",
     "text": [
      "Number of numerical variables: 6\n",
      "Numerical features are:\n"
     ]
    },
    {
     "data": {
      "text/html": [
       "<div>\n",
       "<style scoped>\n",
       "    .dataframe tbody tr th:only-of-type {\n",
       "        vertical-align: middle;\n",
       "    }\n",
       "\n",
       "    .dataframe tbody tr th {\n",
       "        vertical-align: top;\n",
       "    }\n",
       "\n",
       "    .dataframe thead th {\n",
       "        text-align: right;\n",
       "    }\n",
       "</style>\n",
       "<table border=\"1\" class=\"dataframe\">\n",
       "  <thead>\n",
       "    <tr style=\"text-align: right;\">\n",
       "      <th></th>\n",
       "      <th>Weight</th>\n",
       "      <th>Length1</th>\n",
       "      <th>Length2</th>\n",
       "      <th>Length3</th>\n",
       "      <th>Height</th>\n",
       "      <th>Width</th>\n",
       "    </tr>\n",
       "  </thead>\n",
       "  <tbody>\n",
       "    <tr>\n",
       "      <th>0</th>\n",
       "      <td>242.0</td>\n",
       "      <td>23.2</td>\n",
       "      <td>25.4</td>\n",
       "      <td>30.0</td>\n",
       "      <td>11.5200</td>\n",
       "      <td>4.0200</td>\n",
       "    </tr>\n",
       "    <tr>\n",
       "      <th>1</th>\n",
       "      <td>290.0</td>\n",
       "      <td>24.0</td>\n",
       "      <td>26.3</td>\n",
       "      <td>31.2</td>\n",
       "      <td>12.4800</td>\n",
       "      <td>4.3056</td>\n",
       "    </tr>\n",
       "    <tr>\n",
       "      <th>2</th>\n",
       "      <td>340.0</td>\n",
       "      <td>23.9</td>\n",
       "      <td>26.5</td>\n",
       "      <td>31.1</td>\n",
       "      <td>12.3778</td>\n",
       "      <td>4.6961</td>\n",
       "    </tr>\n",
       "    <tr>\n",
       "      <th>3</th>\n",
       "      <td>363.0</td>\n",
       "      <td>26.3</td>\n",
       "      <td>29.0</td>\n",
       "      <td>33.5</td>\n",
       "      <td>12.7300</td>\n",
       "      <td>4.4555</td>\n",
       "    </tr>\n",
       "    <tr>\n",
       "      <th>4</th>\n",
       "      <td>430.0</td>\n",
       "      <td>26.5</td>\n",
       "      <td>29.0</td>\n",
       "      <td>34.0</td>\n",
       "      <td>12.4440</td>\n",
       "      <td>5.1340</td>\n",
       "    </tr>\n",
       "  </tbody>\n",
       "</table>\n",
       "</div>"
      ],
      "text/plain": [
       "   Weight  Length1  Length2  Length3   Height   Width\n",
       "0   242.0     23.2     25.4     30.0  11.5200  4.0200\n",
       "1   290.0     24.0     26.3     31.2  12.4800  4.3056\n",
       "2   340.0     23.9     26.5     31.1  12.3778  4.6961\n",
       "3   363.0     26.3     29.0     33.5  12.7300  4.4555\n",
       "4   430.0     26.5     29.0     34.0  12.4440  5.1340"
      ]
     },
     "execution_count": 6,
     "metadata": {},
     "output_type": "execute_result"
    }
   ],
   "source": [
    "#numerical features in the dataset including both independent and dependent\n",
    "\n",
    "# list of numerical variables\n",
    "numerical_features = [feature for feature in df.columns if df[feature].dtypes != 'O']\n",
    "print('Number of numerical variables:', len(numerical_features))\n",
    "\n",
    "# visualise the numerical variables\n",
    "print(\"Numerical features are:\")\n",
    "df[numerical_features].head()"
   ]
  },
  {
   "cell_type": "code",
   "execution_count": 7,
   "id": "ae34e4d9",
   "metadata": {},
   "outputs": [
    {
     "name": "stdout",
     "output_type": "stream",
     "text": [
      "The Categorical feature is Species and number of categories in each species are: 7\n",
      "Perch        56\n",
      "Bream        35\n",
      "Roach        20\n",
      "Pike         17\n",
      "Smelt        14\n",
      "Parkki       11\n",
      "Whitefish     6\n",
      "Name: Species, dtype: int64\n"
     ]
    }
   ],
   "source": [
    "#categorical features in the data set\n",
    "catergorical_features=[feature for feature in df.columns if df[feature].dtypes=='O']\n",
    "\n",
    "for feature in catergorical_features:\n",
    "    print('The Categorical feature is',feature,\"and number of categories in each species are:\",len(df[feature].unique()))\n",
    "    print(df[feature].value_counts())"
   ]
  },
  {
   "cell_type": "code",
   "execution_count": 8,
   "id": "9db9e90e",
   "metadata": {},
   "outputs": [],
   "source": [
    "#seperating the dependent and the independent(including both numerical and categorical) features\n",
    "independent=df.drop('Weight',axis=1)\n",
    "dependent=df['Weight']"
   ]
  },
  {
   "cell_type": "code",
   "execution_count": 9,
   "id": "ffae3c73",
   "metadata": {},
   "outputs": [
    {
     "data": {
      "text/html": [
       "<div>\n",
       "<style scoped>\n",
       "    .dataframe tbody tr th:only-of-type {\n",
       "        vertical-align: middle;\n",
       "    }\n",
       "\n",
       "    .dataframe tbody tr th {\n",
       "        vertical-align: top;\n",
       "    }\n",
       "\n",
       "    .dataframe thead th {\n",
       "        text-align: right;\n",
       "    }\n",
       "</style>\n",
       "<table border=\"1\" class=\"dataframe\">\n",
       "  <thead>\n",
       "    <tr style=\"text-align: right;\">\n",
       "      <th></th>\n",
       "      <th>Species</th>\n",
       "      <th>Length1</th>\n",
       "      <th>Length2</th>\n",
       "      <th>Length3</th>\n",
       "      <th>Height</th>\n",
       "      <th>Width</th>\n",
       "    </tr>\n",
       "  </thead>\n",
       "  <tbody>\n",
       "    <tr>\n",
       "      <th>0</th>\n",
       "      <td>Bream</td>\n",
       "      <td>23.2</td>\n",
       "      <td>25.4</td>\n",
       "      <td>30.0</td>\n",
       "      <td>11.5200</td>\n",
       "      <td>4.0200</td>\n",
       "    </tr>\n",
       "    <tr>\n",
       "      <th>1</th>\n",
       "      <td>Bream</td>\n",
       "      <td>24.0</td>\n",
       "      <td>26.3</td>\n",
       "      <td>31.2</td>\n",
       "      <td>12.4800</td>\n",
       "      <td>4.3056</td>\n",
       "    </tr>\n",
       "    <tr>\n",
       "      <th>2</th>\n",
       "      <td>Bream</td>\n",
       "      <td>23.9</td>\n",
       "      <td>26.5</td>\n",
       "      <td>31.1</td>\n",
       "      <td>12.3778</td>\n",
       "      <td>4.6961</td>\n",
       "    </tr>\n",
       "    <tr>\n",
       "      <th>3</th>\n",
       "      <td>Bream</td>\n",
       "      <td>26.3</td>\n",
       "      <td>29.0</td>\n",
       "      <td>33.5</td>\n",
       "      <td>12.7300</td>\n",
       "      <td>4.4555</td>\n",
       "    </tr>\n",
       "    <tr>\n",
       "      <th>4</th>\n",
       "      <td>Bream</td>\n",
       "      <td>26.5</td>\n",
       "      <td>29.0</td>\n",
       "      <td>34.0</td>\n",
       "      <td>12.4440</td>\n",
       "      <td>5.1340</td>\n",
       "    </tr>\n",
       "  </tbody>\n",
       "</table>\n",
       "</div>"
      ],
      "text/plain": [
       "  Species  Length1  Length2  Length3   Height   Width\n",
       "0   Bream     23.2     25.4     30.0  11.5200  4.0200\n",
       "1   Bream     24.0     26.3     31.2  12.4800  4.3056\n",
       "2   Bream     23.9     26.5     31.1  12.3778  4.6961\n",
       "3   Bream     26.3     29.0     33.5  12.7300  4.4555\n",
       "4   Bream     26.5     29.0     34.0  12.4440  5.1340"
      ]
     },
     "execution_count": 9,
     "metadata": {},
     "output_type": "execute_result"
    }
   ],
   "source": [
    "independent.head()"
   ]
  },
  {
   "cell_type": "code",
   "execution_count": 10,
   "id": "9dbad854",
   "metadata": {},
   "outputs": [
    {
     "data": {
      "text/plain": [
       "0    242.0\n",
       "1    290.0\n",
       "2    340.0\n",
       "3    363.0\n",
       "4    430.0\n",
       "Name: Weight, dtype: float64"
      ]
     },
     "execution_count": 10,
     "metadata": {},
     "output_type": "execute_result"
    }
   ],
   "source": [
    "dependent.head()"
   ]
  },
  {
   "cell_type": "code",
   "execution_count": 11,
   "id": "4032da9b",
   "metadata": {},
   "outputs": [
    {
     "name": "stdout",
     "output_type": "stream",
     "text": [
      "Shape of independent dataframe: (159, 6)\n",
      "Shape of dependent dataframe: (159,)\n"
     ]
    }
   ],
   "source": [
    "print(\"Shape of independent dataframe:\",independent.shape)\n",
    "print(\"Shape of dependent dataframe:\",dependent.shape)"
   ]
  },
  {
   "cell_type": "code",
   "execution_count": 12,
   "id": "eb2c4750",
   "metadata": {},
   "outputs": [],
   "source": [
    "numerical_x_y= df.iloc[:,1:] #This consists of all the numerical columns including the dependent and independent features\n",
    "numerical_x= df.iloc[:,2:] #This consists of all the numerical columns of only independent features\n",
    "catergorical_x= df.iloc[:,0:] #This consists of all the categorical columns of independent features"
   ]
  },
  {
   "cell_type": "code",
   "execution_count": 13,
   "id": "90d8c702",
   "metadata": {},
   "outputs": [
    {
     "data": {
      "text/html": [
       "<div>\n",
       "<style scoped>\n",
       "    .dataframe tbody tr th:only-of-type {\n",
       "        vertical-align: middle;\n",
       "    }\n",
       "\n",
       "    .dataframe tbody tr th {\n",
       "        vertical-align: top;\n",
       "    }\n",
       "\n",
       "    .dataframe thead th {\n",
       "        text-align: right;\n",
       "    }\n",
       "</style>\n",
       "<table border=\"1\" class=\"dataframe\">\n",
       "  <thead>\n",
       "    <tr style=\"text-align: right;\">\n",
       "      <th></th>\n",
       "      <th>Weight</th>\n",
       "      <th>Length1</th>\n",
       "      <th>Length2</th>\n",
       "      <th>Length3</th>\n",
       "      <th>Height</th>\n",
       "      <th>Width</th>\n",
       "    </tr>\n",
       "  </thead>\n",
       "  <tbody>\n",
       "    <tr>\n",
       "      <th>0</th>\n",
       "      <td>242.0</td>\n",
       "      <td>23.2</td>\n",
       "      <td>25.4</td>\n",
       "      <td>30.0</td>\n",
       "      <td>11.5200</td>\n",
       "      <td>4.0200</td>\n",
       "    </tr>\n",
       "    <tr>\n",
       "      <th>1</th>\n",
       "      <td>290.0</td>\n",
       "      <td>24.0</td>\n",
       "      <td>26.3</td>\n",
       "      <td>31.2</td>\n",
       "      <td>12.4800</td>\n",
       "      <td>4.3056</td>\n",
       "    </tr>\n",
       "    <tr>\n",
       "      <th>2</th>\n",
       "      <td>340.0</td>\n",
       "      <td>23.9</td>\n",
       "      <td>26.5</td>\n",
       "      <td>31.1</td>\n",
       "      <td>12.3778</td>\n",
       "      <td>4.6961</td>\n",
       "    </tr>\n",
       "    <tr>\n",
       "      <th>3</th>\n",
       "      <td>363.0</td>\n",
       "      <td>26.3</td>\n",
       "      <td>29.0</td>\n",
       "      <td>33.5</td>\n",
       "      <td>12.7300</td>\n",
       "      <td>4.4555</td>\n",
       "    </tr>\n",
       "    <tr>\n",
       "      <th>4</th>\n",
       "      <td>430.0</td>\n",
       "      <td>26.5</td>\n",
       "      <td>29.0</td>\n",
       "      <td>34.0</td>\n",
       "      <td>12.4440</td>\n",
       "      <td>5.1340</td>\n",
       "    </tr>\n",
       "  </tbody>\n",
       "</table>\n",
       "</div>"
      ],
      "text/plain": [
       "   Weight  Length1  Length2  Length3   Height   Width\n",
       "0   242.0     23.2     25.4     30.0  11.5200  4.0200\n",
       "1   290.0     24.0     26.3     31.2  12.4800  4.3056\n",
       "2   340.0     23.9     26.5     31.1  12.3778  4.6961\n",
       "3   363.0     26.3     29.0     33.5  12.7300  4.4555\n",
       "4   430.0     26.5     29.0     34.0  12.4440  5.1340"
      ]
     },
     "execution_count": 13,
     "metadata": {},
     "output_type": "execute_result"
    }
   ],
   "source": [
    "numerical_x_y.head()"
   ]
  },
  {
   "cell_type": "code",
   "execution_count": 14,
   "id": "00f765f0",
   "metadata": {},
   "outputs": [
    {
     "data": {
      "text/html": [
       "<div>\n",
       "<style scoped>\n",
       "    .dataframe tbody tr th:only-of-type {\n",
       "        vertical-align: middle;\n",
       "    }\n",
       "\n",
       "    .dataframe tbody tr th {\n",
       "        vertical-align: top;\n",
       "    }\n",
       "\n",
       "    .dataframe thead th {\n",
       "        text-align: right;\n",
       "    }\n",
       "</style>\n",
       "<table border=\"1\" class=\"dataframe\">\n",
       "  <thead>\n",
       "    <tr style=\"text-align: right;\">\n",
       "      <th></th>\n",
       "      <th>Length1</th>\n",
       "      <th>Length2</th>\n",
       "      <th>Length3</th>\n",
       "      <th>Height</th>\n",
       "      <th>Width</th>\n",
       "    </tr>\n",
       "  </thead>\n",
       "  <tbody>\n",
       "    <tr>\n",
       "      <th>0</th>\n",
       "      <td>23.2</td>\n",
       "      <td>25.4</td>\n",
       "      <td>30.0</td>\n",
       "      <td>11.5200</td>\n",
       "      <td>4.0200</td>\n",
       "    </tr>\n",
       "    <tr>\n",
       "      <th>1</th>\n",
       "      <td>24.0</td>\n",
       "      <td>26.3</td>\n",
       "      <td>31.2</td>\n",
       "      <td>12.4800</td>\n",
       "      <td>4.3056</td>\n",
       "    </tr>\n",
       "    <tr>\n",
       "      <th>2</th>\n",
       "      <td>23.9</td>\n",
       "      <td>26.5</td>\n",
       "      <td>31.1</td>\n",
       "      <td>12.3778</td>\n",
       "      <td>4.6961</td>\n",
       "    </tr>\n",
       "    <tr>\n",
       "      <th>3</th>\n",
       "      <td>26.3</td>\n",
       "      <td>29.0</td>\n",
       "      <td>33.5</td>\n",
       "      <td>12.7300</td>\n",
       "      <td>4.4555</td>\n",
       "    </tr>\n",
       "    <tr>\n",
       "      <th>4</th>\n",
       "      <td>26.5</td>\n",
       "      <td>29.0</td>\n",
       "      <td>34.0</td>\n",
       "      <td>12.4440</td>\n",
       "      <td>5.1340</td>\n",
       "    </tr>\n",
       "  </tbody>\n",
       "</table>\n",
       "</div>"
      ],
      "text/plain": [
       "   Length1  Length2  Length3   Height   Width\n",
       "0     23.2     25.4     30.0  11.5200  4.0200\n",
       "1     24.0     26.3     31.2  12.4800  4.3056\n",
       "2     23.9     26.5     31.1  12.3778  4.6961\n",
       "3     26.3     29.0     33.5  12.7300  4.4555\n",
       "4     26.5     29.0     34.0  12.4440  5.1340"
      ]
     },
     "execution_count": 14,
     "metadata": {},
     "output_type": "execute_result"
    }
   ],
   "source": [
    "numerical_x.head()"
   ]
  },
  {
   "cell_type": "code",
   "execution_count": 15,
   "id": "a08ed336",
   "metadata": {},
   "outputs": [
    {
     "data": {
      "text/html": [
       "<div>\n",
       "<style scoped>\n",
       "    .dataframe tbody tr th:only-of-type {\n",
       "        vertical-align: middle;\n",
       "    }\n",
       "\n",
       "    .dataframe tbody tr th {\n",
       "        vertical-align: top;\n",
       "    }\n",
       "\n",
       "    .dataframe thead th {\n",
       "        text-align: right;\n",
       "    }\n",
       "</style>\n",
       "<table border=\"1\" class=\"dataframe\">\n",
       "  <thead>\n",
       "    <tr style=\"text-align: right;\">\n",
       "      <th></th>\n",
       "      <th>Species</th>\n",
       "      <th>Weight</th>\n",
       "      <th>Length1</th>\n",
       "      <th>Length2</th>\n",
       "      <th>Length3</th>\n",
       "      <th>Height</th>\n",
       "      <th>Width</th>\n",
       "    </tr>\n",
       "  </thead>\n",
       "  <tbody>\n",
       "    <tr>\n",
       "      <th>0</th>\n",
       "      <td>Bream</td>\n",
       "      <td>242.0</td>\n",
       "      <td>23.2</td>\n",
       "      <td>25.4</td>\n",
       "      <td>30.0</td>\n",
       "      <td>11.5200</td>\n",
       "      <td>4.0200</td>\n",
       "    </tr>\n",
       "    <tr>\n",
       "      <th>1</th>\n",
       "      <td>Bream</td>\n",
       "      <td>290.0</td>\n",
       "      <td>24.0</td>\n",
       "      <td>26.3</td>\n",
       "      <td>31.2</td>\n",
       "      <td>12.4800</td>\n",
       "      <td>4.3056</td>\n",
       "    </tr>\n",
       "    <tr>\n",
       "      <th>2</th>\n",
       "      <td>Bream</td>\n",
       "      <td>340.0</td>\n",
       "      <td>23.9</td>\n",
       "      <td>26.5</td>\n",
       "      <td>31.1</td>\n",
       "      <td>12.3778</td>\n",
       "      <td>4.6961</td>\n",
       "    </tr>\n",
       "    <tr>\n",
       "      <th>3</th>\n",
       "      <td>Bream</td>\n",
       "      <td>363.0</td>\n",
       "      <td>26.3</td>\n",
       "      <td>29.0</td>\n",
       "      <td>33.5</td>\n",
       "      <td>12.7300</td>\n",
       "      <td>4.4555</td>\n",
       "    </tr>\n",
       "    <tr>\n",
       "      <th>4</th>\n",
       "      <td>Bream</td>\n",
       "      <td>430.0</td>\n",
       "      <td>26.5</td>\n",
       "      <td>29.0</td>\n",
       "      <td>34.0</td>\n",
       "      <td>12.4440</td>\n",
       "      <td>5.1340</td>\n",
       "    </tr>\n",
       "  </tbody>\n",
       "</table>\n",
       "</div>"
      ],
      "text/plain": [
       "  Species  Weight  Length1  Length2  Length3   Height   Width\n",
       "0   Bream   242.0     23.2     25.4     30.0  11.5200  4.0200\n",
       "1   Bream   290.0     24.0     26.3     31.2  12.4800  4.3056\n",
       "2   Bream   340.0     23.9     26.5     31.1  12.3778  4.6961\n",
       "3   Bream   363.0     26.3     29.0     33.5  12.7300  4.4555\n",
       "4   Bream   430.0     26.5     29.0     34.0  12.4440  5.1340"
      ]
     },
     "execution_count": 15,
     "metadata": {},
     "output_type": "execute_result"
    }
   ],
   "source": [
    "catergorical_x.head()"
   ]
  },
  {
   "cell_type": "markdown",
   "id": "a9355866",
   "metadata": {},
   "source": [
    "# Count of Individual Species"
   ]
  },
  {
   "cell_type": "code",
   "execution_count": 17,
   "id": "714be6ec",
   "metadata": {},
   "outputs": [
    {
     "name": "stdout",
     "output_type": "stream",
     "text": [
      "Perch        56\n",
      "Bream        35\n",
      "Roach        20\n",
      "Pike         17\n",
      "Smelt        14\n",
      "Parkki       11\n",
      "Whitefish     6\n",
      "Name: Species, dtype: int64\n"
     ]
    }
   ],
   "source": [
    "print(df['Species'].value_counts())"
   ]
  },
  {
   "cell_type": "code",
   "execution_count": 19,
   "id": "365cc882",
   "metadata": {},
   "outputs": [
    {
     "data": {
      "image/png": "[encoded data removed]",
      "text/plain": [
       "<Figure size 432x288 with 1 Axes>"
      ]
     },
     "metadata": {
      "needs_background": "light"
     },
     "output_type": "display_data"
    }
   ],
   "source": [
    "sns.barplot(x=df['Species'].unique(),y=df['Species'].value_counts(),data=df)\n",
    "plt.xlabel(\"Species\")\n",
    "plt.ylabel(\"Count\")\n",
    "plt.title(\"Count of individual species\")\n",
    "plt.show()"
   ]
  },
  {
   "cell_type": "markdown",
   "id": "af213dad",
   "metadata": {},
   "source": [
    "### We can see from the above plot that the count of Bream species is the most and count of Smelt is the least."
   ]
  },
  {
   "cell_type": "markdown",
   "id": "f4797023",
   "metadata": {},
   "source": [
    "# Identifying outliers "
   ]
  },
  {
   "cell_type": "code",
   "execution_count": 20,
   "id": "6ad514d2",
   "metadata": {},
   "outputs": [
    {
     "data": {
      "image/png": "[encoded data removed]",
      "text/plain": [
       "<Figure size 432x288 with 1 Axes>"
      ]
     },
     "metadata": {
      "needs_background": "light"
     },
     "output_type": "display_data"
    }
   ],
   "source": [
    "#finding the outliers in dependent feature\n",
    "sns.boxplot(x=df.Weight,data=df)\n",
    "plt.title(\"Outliers in Weight\")\n",
    "plt.show()"
   ]
  },
  {
   "cell_type": "markdown",
   "id": "5ef6c772",
   "metadata": {},
   "source": [
    "### Removing outliers for better model accuracy"
   ]
  },
  {
   "cell_type": "code",
   "execution_count": 22,
   "id": "42c37d85",
   "metadata": {},
   "outputs": [
    {
     "data": {
      "image/png": "[encoded data removed]",
      "text/plain": [
       "<Figure size 432x288 with 1 Axes>"
      ]
     },
     "metadata": {
      "needs_background": "light"
     },
     "output_type": "display_data"
    }
   ],
   "source": [
    "df=df.drop(df.index[df['Weight']>1250],axis=0)\n",
    "#Checking if the outliers have been removed in dependent variables\n",
    "sns.boxplot(x='Weight',data=df)\n",
    "plt.show()"
   ]
  },
  {
   "cell_type": "code",
   "execution_count": 23,
   "id": "805bf9d2",
   "metadata": {},
   "outputs": [
    {
     "name": "stdout",
     "output_type": "stream",
     "text": [
      "Length1\n"
     ]
    },
    {
     "data": {
      "image/png": "[encoded data removed]",
      "text/plain": [
       "<Figure size 432x288 with 1 Axes>"
      ]
     },
     "metadata": {
      "needs_background": "light"
     },
     "output_type": "display_data"
    },
    {
     "name": "stdout",
     "output_type": "stream",
     "text": [
      "Length2\n"
     ]
    },
    {
     "data": {
      "image/png": "[encoded data removed]",
      "text/plain": [
       "<Figure size 432x288 with 1 Axes>"
      ]
     },
     "metadata": {
      "needs_background": "light"
     },
     "output_type": "display_data"
    },
    {
     "name": "stdout",
     "output_type": "stream",
     "text": [
      "Length3\n"
     ]
    },
    {
     "data": {
      "image/png": "[encoded data removed]",
      "text/plain": [
       "<Figure size 432x288 with 1 Axes>"
      ]
     },
     "metadata": {
      "needs_background": "light"
     },
     "output_type": "display_data"
    },
    {
     "name": "stdout",
     "output_type": "stream",
     "text": [
      "Height\n"
     ]
    },
    {
     "data": {
      "image/png": "[encoded data removed]",
      "text/plain": [
       "<Figure size 432x288 with 1 Axes>"
      ]
     },
     "metadata": {
      "needs_background": "light"
     },
     "output_type": "display_data"
    },
    {
     "name": "stdout",
     "output_type": "stream",
     "text": [
      "Width\n"
     ]
    },
    {
     "data": {
      "image/png": "[encoded data removed]",
      "text/plain": [
       "<Figure size 432x288 with 1 Axes>"
      ]
     },
     "metadata": {
      "needs_background": "light"
     },
     "output_type": "display_data"
    }
   ],
   "source": [
    "#finding the outliers in independent numerical features\n",
    "for feature in numerical_x.columns:\n",
    "        print(feature)\n",
    "        sns.boxplot(x=df[feature],data=df)\n",
    "        plt.title('Outliers in {}'.format(feature))\n",
    "        plt.show()"
   ]
  },
  {
   "cell_type": "markdown",
   "id": "bd7fdf78",
   "metadata": {},
   "source": [
    "### There are outliers in Length1, Length2 and Length3 in the independent variables. But we can remove for only the dependent variables.Otherwise a lot of values might get removed and the accuracy of the model may not be correct."
   ]
  },
  {
   "cell_type": "markdown",
   "id": "14a423b0",
   "metadata": {},
   "source": [
    "#### All the outliers of the dependent variables have been removed."
   ]
  },
  {
   "cell_type": "markdown",
   "id": "1a292fe6",
   "metadata": {},
   "source": [
    "# EDA"
   ]
  },
  {
   "cell_type": "code",
   "execution_count": 26,
   "id": "9fb0ab0b",
   "metadata": {},
   "outputs": [
    {
     "data": {
      "image/png": "[encoded data removed]",
      "text/plain": [
       "<Figure size 432x288 with 1 Axes>"
      ]
     },
     "metadata": {
      "needs_background": "light"
     },
     "output_type": "display_data"
    }
   ],
   "source": [
    "sns.countplot(x=df['Species'],data=df)\n",
    "plt.show()"
   ]
  },
  {
   "cell_type": "markdown",
   "id": "7c56a94d",
   "metadata": {},
   "source": [
    "### This plot is used to count the number of each category of species."
   ]
  },
  {
   "cell_type": "markdown",
   "id": "4b555aaa",
   "metadata": {},
   "source": [
    "#### Univariate Analysis:"
   ]
  },
  {
   "cell_type": "code",
   "execution_count": 28,
   "id": "0eb31407",
   "metadata": {},
   "outputs": [
    {
     "data": {
      "image/png": "[encoded data removed]",
      "text/plain": [
       "<Figure size 432x288 with 1 Axes>"
      ]
     },
     "metadata": {
      "needs_background": "light"
     },
     "output_type": "display_data"
    },
    {
     "data": {
      "image/png": "[encoded data removed]",
      "text/plain": [
       "<Figure size 432x288 with 1 Axes>"
      ]
     },
     "metadata": {
      "needs_background": "light"
     },
     "output_type": "display_data"
    },
    {
     "data": {
      "image/png": "[encoded data removed]",
      "text/plain": [
       "<Figure size 432x288 with 1 Axes>"
      ]
     },
     "metadata": {
      "needs_background": "light"
     },
     "output_type": "display_data"
    },
    {
     "data": {
      "image/png": "[encoded data removed]",
      "text/plain": [
       "<Figure size 432x288 with 1 Axes>"
      ]
     },
     "metadata": {
      "needs_background": "light"
     },
     "output_type": "display_data"
    },
    {
     "data": {
      "image/png": "[encoded data removed]",
      "text/plain": [
       "<Figure size 432x288 with 1 Axes>"
      ]
     },
     "metadata": {
      "needs_background": "light"
     },
     "output_type": "display_data"
    },
    {
     "data": {
      "image/png": "[encoded data removed]",
      "text/plain": [
       "<Figure size 432x288 with 1 Axes>"
      ]
     },
     "metadata": {
      "needs_background": "light"
     },
     "output_type": "display_data"
    }
   ],
   "source": [
    "for feature in numerical_x_y.columns:\n",
    "    sns.kdeplot(numerical_x_y[feature],hue=df.Species)\n",
    "    plt.show()"
   ]
  },
  {
   "cell_type": "markdown",
   "id": "056085e8",
   "metadata": {},
   "source": [
    "#### None of the numerical features are normally distributed. Here we are finding the distribution of each catergory of species with the other numerical features."
   ]
  },
  {
   "cell_type": "markdown",
   "id": "fdbb383a",
   "metadata": {},
   "source": [
    "#### Bivariate Analysis:"
   ]
  },
  {
   "cell_type": "code",
   "execution_count": 30,
   "id": "d295cfb5",
   "metadata": {},
   "outputs": [
    {
     "name": "stdout",
     "output_type": "stream",
     "text": [
      "Weight vs Length1\n"
     ]
    },
    {
     "data": {
      "image/png": "[encoded data removed]",
      "text/plain": [
       "<Figure size 432x288 with 1 Axes>"
      ]
     },
     "metadata": {
      "needs_background": "light"
     },
     "output_type": "display_data"
    },
    {
     "name": "stdout",
     "output_type": "stream",
     "text": [
      "Weight vs Length2\n"
     ]
    },
    {
     "data": {
      "image/png": "[encoded data removed]",
      "text/plain": [
       "<Figure size 432x288 with 1 Axes>"
      ]
     },
     "metadata": {
      "needs_background": "light"
     },
     "output_type": "display_data"
    },
    {
     "name": "stdout",
     "output_type": "stream",
     "text": [
      "Weight vs Length3\n"
     ]
    },
    {
     "data": {
      "image/png": "[encoded data removed]",
      "text/plain": [
       "<Figure size 432x288 with 1 Axes>"
      ]
     },
     "metadata": {
      "needs_background": "light"
     },
     "output_type": "display_data"
    },
    {
     "name": "stdout",
     "output_type": "stream",
     "text": [
      "Weight vs Height\n"
     ]
    },
    {
     "data": {
      "image/png": "[encoded data removed]",
      "text/plain": [
       "<Figure size 432x288 with 1 Axes>"
      ]
     },
     "metadata": {
      "needs_background": "light"
     },
     "output_type": "display_data"
    },
    {
     "name": "stdout",
     "output_type": "stream",
     "text": [
      "Weight vs Width\n"
     ]
    },
    {
     "data": {
      "image/png": "[encoded data removed]",
      "text/plain": [
       "<Figure size 432x288 with 1 Axes>"
      ]
     },
     "metadata": {
      "needs_background": "light"
     },
     "output_type": "display_data"
    }
   ],
   "source": [
    "#finding the relationship between the dependent and the independent numerical variables\n",
    "for feature in numerical_x.columns:\n",
    "        print(\"Weight vs\",feature)\n",
    "        sns.scatterplot(data=df,x=df.Weight,y=df[feature])\n",
    "        plt.show()"
   ]
  },
  {
   "cell_type": "markdown",
   "id": "ed0e0142",
   "metadata": {},
   "source": [
    "#### Multivariate Analysis:"
   ]
  },
  {
   "cell_type": "code",
   "execution_count": 31,
   "id": "fb235472",
   "metadata": {},
   "outputs": [
    {
     "data": {
      "text/html": [
       "<div>\n",
       "<style scoped>\n",
       "    .dataframe tbody tr th:only-of-type {\n",
       "        vertical-align: middle;\n",
       "    }\n",
       "\n",
       "    .dataframe tbody tr th {\n",
       "        vertical-align: top;\n",
       "    }\n",
       "\n",
       "    .dataframe thead th {\n",
       "        text-align: right;\n",
       "    }\n",
       "</style>\n",
       "<table border=\"1\" class=\"dataframe\">\n",
       "  <thead>\n",
       "    <tr style=\"text-align: right;\">\n",
       "      <th></th>\n",
       "      <th>Weight</th>\n",
       "      <th>Length1</th>\n",
       "      <th>Length2</th>\n",
       "      <th>Length3</th>\n",
       "      <th>Height</th>\n",
       "      <th>Width</th>\n",
       "    </tr>\n",
       "  </thead>\n",
       "  <tbody>\n",
       "    <tr>\n",
       "      <th>Weight</th>\n",
       "      <td>1.000000</td>\n",
       "      <td>0.915712</td>\n",
       "      <td>0.918618</td>\n",
       "      <td>0.923044</td>\n",
       "      <td>0.724345</td>\n",
       "      <td>0.886507</td>\n",
       "    </tr>\n",
       "    <tr>\n",
       "      <th>Length1</th>\n",
       "      <td>0.915712</td>\n",
       "      <td>1.000000</td>\n",
       "      <td>0.999517</td>\n",
       "      <td>0.992031</td>\n",
       "      <td>0.625378</td>\n",
       "      <td>0.867050</td>\n",
       "    </tr>\n",
       "    <tr>\n",
       "      <th>Length2</th>\n",
       "      <td>0.918618</td>\n",
       "      <td>0.999517</td>\n",
       "      <td>1.000000</td>\n",
       "      <td>0.994103</td>\n",
       "      <td>0.640441</td>\n",
       "      <td>0.873547</td>\n",
       "    </tr>\n",
       "    <tr>\n",
       "      <th>Length3</th>\n",
       "      <td>0.923044</td>\n",
       "      <td>0.992031</td>\n",
       "      <td>0.994103</td>\n",
       "      <td>1.000000</td>\n",
       "      <td>0.703409</td>\n",
       "      <td>0.878520</td>\n",
       "    </tr>\n",
       "    <tr>\n",
       "      <th>Height</th>\n",
       "      <td>0.724345</td>\n",
       "      <td>0.625378</td>\n",
       "      <td>0.640441</td>\n",
       "      <td>0.703409</td>\n",
       "      <td>1.000000</td>\n",
       "      <td>0.792881</td>\n",
       "    </tr>\n",
       "    <tr>\n",
       "      <th>Width</th>\n",
       "      <td>0.886507</td>\n",
       "      <td>0.867050</td>\n",
       "      <td>0.873547</td>\n",
       "      <td>0.878520</td>\n",
       "      <td>0.792881</td>\n",
       "      <td>1.000000</td>\n",
       "    </tr>\n",
       "  </tbody>\n",
       "</table>\n",
       "</div>"
      ],
      "text/plain": [
       "           Weight   Length1   Length2   Length3    Height     Width\n",
       "Weight   1.000000  0.915712  0.918618  0.923044  0.724345  0.886507\n",
       "Length1  0.915712  1.000000  0.999517  0.992031  0.625378  0.867050\n",
       "Length2  0.918618  0.999517  1.000000  0.994103  0.640441  0.873547\n",
       "Length3  0.923044  0.992031  0.994103  1.000000  0.703409  0.878520\n",
       "Height   0.724345  0.625378  0.640441  0.703409  1.000000  0.792881\n",
       "Width    0.886507  0.867050  0.873547  0.878520  0.792881  1.000000"
      ]
     },
     "execution_count": 31,
     "metadata": {},
     "output_type": "execute_result"
    }
   ],
   "source": [
    "numerical_x_y.corr()"
   ]
  },
  {
   "cell_type": "code",
   "execution_count": 32,
   "id": "d3fb7fd6",
   "metadata": {},
   "outputs": [
    {
     "data": {
      "image/png": "[encoded data removed]",
      "text/plain": [
       "<Figure size 432x288 with 2 Axes>"
      ]
     },
     "metadata": {
      "needs_background": "light"
     },
     "output_type": "display_data"
    }
   ],
   "source": [
    "sns.heatmap(data=numerical_x_y.corr(),annot=True,cmap='viridis')\n",
    "plt.show()"
   ]
  },
  {
   "cell_type": "markdown",
   "id": "b04b5be8",
   "metadata": {},
   "source": [
    "#### Weight has highest correlation with Length1,Length2 and Length3 and least with Height. There is a very strong positive correlation between the independent features: Length1 and Length2."
   ]
  },
  {
   "cell_type": "markdown",
   "id": "59d59a77",
   "metadata": {},
   "source": [
    "# Building  regression model"
   ]
  },
  {
   "cell_type": "code",
   "execution_count": 33,
   "id": "d3a4a42b",
   "metadata": {},
   "outputs": [
    {
     "data": {
      "text/html": [
       "<div>\n",
       "<style scoped>\n",
       "    .dataframe tbody tr th:only-of-type {\n",
       "        vertical-align: middle;\n",
       "    }\n",
       "\n",
       "    .dataframe tbody tr th {\n",
       "        vertical-align: top;\n",
       "    }\n",
       "\n",
       "    .dataframe thead th {\n",
       "        text-align: right;\n",
       "    }\n",
       "</style>\n",
       "<table border=\"1\" class=\"dataframe\">\n",
       "  <thead>\n",
       "    <tr style=\"text-align: right;\">\n",
       "      <th></th>\n",
       "      <th>Species</th>\n",
       "      <th>Weight</th>\n",
       "      <th>Length1</th>\n",
       "      <th>Length2</th>\n",
       "      <th>Length3</th>\n",
       "      <th>Height</th>\n",
       "      <th>Width</th>\n",
       "    </tr>\n",
       "  </thead>\n",
       "  <tbody>\n",
       "    <tr>\n",
       "      <th>0</th>\n",
       "      <td>Bream</td>\n",
       "      <td>242.0</td>\n",
       "      <td>23.2</td>\n",
       "      <td>25.4</td>\n",
       "      <td>30.0</td>\n",
       "      <td>11.5200</td>\n",
       "      <td>4.0200</td>\n",
       "    </tr>\n",
       "    <tr>\n",
       "      <th>1</th>\n",
       "      <td>Bream</td>\n",
       "      <td>290.0</td>\n",
       "      <td>24.0</td>\n",
       "      <td>26.3</td>\n",
       "      <td>31.2</td>\n",
       "      <td>12.4800</td>\n",
       "      <td>4.3056</td>\n",
       "    </tr>\n",
       "    <tr>\n",
       "      <th>2</th>\n",
       "      <td>Bream</td>\n",
       "      <td>340.0</td>\n",
       "      <td>23.9</td>\n",
       "      <td>26.5</td>\n",
       "      <td>31.1</td>\n",
       "      <td>12.3778</td>\n",
       "      <td>4.6961</td>\n",
       "    </tr>\n",
       "    <tr>\n",
       "      <th>3</th>\n",
       "      <td>Bream</td>\n",
       "      <td>363.0</td>\n",
       "      <td>26.3</td>\n",
       "      <td>29.0</td>\n",
       "      <td>33.5</td>\n",
       "      <td>12.7300</td>\n",
       "      <td>4.4555</td>\n",
       "    </tr>\n",
       "    <tr>\n",
       "      <th>4</th>\n",
       "      <td>Bream</td>\n",
       "      <td>430.0</td>\n",
       "      <td>26.5</td>\n",
       "      <td>29.0</td>\n",
       "      <td>34.0</td>\n",
       "      <td>12.4440</td>\n",
       "      <td>5.1340</td>\n",
       "    </tr>\n",
       "  </tbody>\n",
       "</table>\n",
       "</div>"
      ],
      "text/plain": [
       "  Species  Weight  Length1  Length2  Length3   Height   Width\n",
       "0   Bream   242.0     23.2     25.4     30.0  11.5200  4.0200\n",
       "1   Bream   290.0     24.0     26.3     31.2  12.4800  4.3056\n",
       "2   Bream   340.0     23.9     26.5     31.1  12.3778  4.6961\n",
       "3   Bream   363.0     26.3     29.0     33.5  12.7300  4.4555\n",
       "4   Bream   430.0     26.5     29.0     34.0  12.4440  5.1340"
      ]
     },
     "execution_count": 33,
     "metadata": {},
     "output_type": "execute_result"
    }
   ],
   "source": [
    "df.head()"
   ]
  },
  {
   "cell_type": "code",
   "execution_count": 40,
   "id": "26f8d59f",
   "metadata": {},
   "outputs": [],
   "source": [
    "x=df.drop('Weight',axis=1)\n",
    "y=df['Weight']"
   ]
  },
  {
   "cell_type": "code",
   "execution_count": 38,
   "id": "0934dec3",
   "metadata": {},
   "outputs": [
    {
     "data": {
      "text/html": [
       "<div>\n",
       "<style scoped>\n",
       "    .dataframe tbody tr th:only-of-type {\n",
       "        vertical-align: middle;\n",
       "    }\n",
       "\n",
       "    .dataframe tbody tr th {\n",
       "        vertical-align: top;\n",
       "    }\n",
       "\n",
       "    .dataframe thead th {\n",
       "        text-align: right;\n",
       "    }\n",
       "</style>\n",
       "<table border=\"1\" class=\"dataframe\">\n",
       "  <thead>\n",
       "    <tr style=\"text-align: right;\">\n",
       "      <th></th>\n",
       "      <th>Species</th>\n",
       "      <th>Length1</th>\n",
       "      <th>Length2</th>\n",
       "      <th>Length3</th>\n",
       "      <th>Height</th>\n",
       "      <th>Width</th>\n",
       "    </tr>\n",
       "  </thead>\n",
       "  <tbody>\n",
       "    <tr>\n",
       "      <th>0</th>\n",
       "      <td>Bream</td>\n",
       "      <td>23.2</td>\n",
       "      <td>25.4</td>\n",
       "      <td>30.0</td>\n",
       "      <td>11.5200</td>\n",
       "      <td>4.0200</td>\n",
       "    </tr>\n",
       "    <tr>\n",
       "      <th>1</th>\n",
       "      <td>Bream</td>\n",
       "      <td>24.0</td>\n",
       "      <td>26.3</td>\n",
       "      <td>31.2</td>\n",
       "      <td>12.4800</td>\n",
       "      <td>4.3056</td>\n",
       "    </tr>\n",
       "    <tr>\n",
       "      <th>2</th>\n",
       "      <td>Bream</td>\n",
       "      <td>23.9</td>\n",
       "      <td>26.5</td>\n",
       "      <td>31.1</td>\n",
       "      <td>12.3778</td>\n",
       "      <td>4.6961</td>\n",
       "    </tr>\n",
       "    <tr>\n",
       "      <th>3</th>\n",
       "      <td>Bream</td>\n",
       "      <td>26.3</td>\n",
       "      <td>29.0</td>\n",
       "      <td>33.5</td>\n",
       "      <td>12.7300</td>\n",
       "      <td>4.4555</td>\n",
       "    </tr>\n",
       "    <tr>\n",
       "      <th>4</th>\n",
       "      <td>Bream</td>\n",
       "      <td>26.5</td>\n",
       "      <td>29.0</td>\n",
       "      <td>34.0</td>\n",
       "      <td>12.4440</td>\n",
       "      <td>5.1340</td>\n",
       "    </tr>\n",
       "  </tbody>\n",
       "</table>\n",
       "</div>"
      ],
      "text/plain": [
       "  Species  Length1  Length2  Length3   Height   Width\n",
       "0   Bream     23.2     25.4     30.0  11.5200  4.0200\n",
       "1   Bream     24.0     26.3     31.2  12.4800  4.3056\n",
       "2   Bream     23.9     26.5     31.1  12.3778  4.6961\n",
       "3   Bream     26.3     29.0     33.5  12.7300  4.4555\n",
       "4   Bream     26.5     29.0     34.0  12.4440  5.1340"
      ]
     },
     "execution_count": 38,
     "metadata": {},
     "output_type": "execute_result"
    }
   ],
   "source": [
    "x.head()"
   ]
  },
  {
   "cell_type": "code",
   "execution_count": 39,
   "id": "a15cdacf",
   "metadata": {},
   "outputs": [
    {
     "data": {
      "text/plain": [
       "0    242.0\n",
       "1    290.0\n",
       "2    340.0\n",
       "3    363.0\n",
       "4    430.0\n",
       "Name: Weight, dtype: float64"
      ]
     },
     "execution_count": 39,
     "metadata": {},
     "output_type": "execute_result"
    }
   ],
   "source": [
    "y.head()"
   ]
  },
  {
   "cell_type": "markdown",
   "id": "88988056",
   "metadata": {},
   "source": [
    "#### Checking for Linearity:"
   ]
  },
  {
   "cell_type": "code",
   "execution_count": 42,
   "id": "27c51990",
   "metadata": {},
   "outputs": [
    {
     "name": "stdout",
     "output_type": "stream",
     "text": [
      "Scatter plot for Linearity\n",
      "\n",
      "Weight vs Length1\n"
     ]
    },
    {
     "data": {
      "image/png": "[encoded data removed]",
      "text/plain": [
       "<Figure size 432x288 with 1 Axes>"
      ]
     },
     "metadata": {
      "needs_background": "light"
     },
     "output_type": "display_data"
    },
    {
     "name": "stdout",
     "output_type": "stream",
     "text": [
      "Weight vs Length2\n"
     ]
    },
    {
     "data": {
      "image/png": "[encoded data removed]",
      "text/plain": [
       "<Figure size 432x288 with 1 Axes>"
      ]
     },
     "metadata": {
      "needs_background": "light"
     },
     "output_type": "display_data"
    },
    {
     "name": "stdout",
     "output_type": "stream",
     "text": [
      "Weight vs Length3\n"
     ]
    },
    {
     "data": {
      "image/png": "[encoded data removed]",
      "text/plain": [
       "<Figure size 432x288 with 1 Axes>"
      ]
     },
     "metadata": {
      "needs_background": "light"
     },
     "output_type": "display_data"
    },
    {
     "name": "stdout",
     "output_type": "stream",
     "text": [
      "Weight vs Height\n"
     ]
    },
    {
     "data": {
      "image/png": "[encoded data removed]",
      "text/plain": [
       "<Figure size 432x288 with 1 Axes>"
      ]
     },
     "metadata": {
      "needs_background": "light"
     },
     "output_type": "display_data"
    },
    {
     "name": "stdout",
     "output_type": "stream",
     "text": [
      "Weight vs Width\n"
     ]
    },
    {
     "data": {
      "image/png": "[encoded data removed]",
      "text/plain": [
       "<Figure size 432x288 with 1 Axes>"
      ]
     },
     "metadata": {
      "needs_background": "light"
     },
     "output_type": "display_data"
    }
   ],
   "source": [
    "print(\"Scatter plot for Linearity\\n\")\n",
    "for feature in numerical_x.columns:\n",
    "        print(\"Weight vs\",feature)\n",
    "        sns.scatterplot(data=df,x=df.Weight,y=df[feature])\n",
    "        plt.show()"
   ]
  },
  {
   "cell_type": "markdown",
   "id": "2ac49c60",
   "metadata": {},
   "source": [
    "#### To check if the correlation is significant we do Pearsonr."
   ]
  },
  {
   "cell_type": "code",
   "execution_count": 44,
   "id": "71e8c185",
   "metadata": {},
   "outputs": [
    {
     "name": "stdout",
     "output_type": "stream",
     "text": [
      "\n",
      "Correlation between Weight and Length1 :\n",
      "Correlation =  0.8957425609788277 \n",
      "P_value =  4.343723387866899e-56\n",
      "Significant.\n",
      "\n",
      "Correlation between Weight and Length2 :\n",
      "Correlation =  0.899759050950671 \n",
      "P_value =  2.4714981862120374e-57\n",
      "Significant.\n",
      "\n",
      "Correlation between Weight and Length3 :\n",
      "Correlation =  0.9072921554536855 \n",
      "P_value =  8.113849316457461e-60\n",
      "Significant.\n",
      "\n",
      "Correlation between Weight and Height :\n",
      "Correlation =  0.8018712156822994 \n",
      "P_value =  2.867672256971377e-36\n",
      "Significant.\n",
      "\n",
      "Correlation between Weight and Width :\n",
      "Correlation =  0.9234321722602117 \n",
      "P_value =  6.124586053795755e-66\n",
      "Significant.\n"
     ]
    }
   ],
   "source": [
    "for i in ['Length1','Length2','Length3','Height','Width']:\n",
    "    print(\"\\nCorrelation between Weight and\",i,\":\")\n",
    "    correlation,p_value=0,0\n",
    "    correlation,p_value=pearsonr(x[i],y)\n",
    "    print(\"Correlation = \",correlation,\"\\nP_value = \",p_value)\n",
    "    if p_value>0.05:\n",
    "        print(\"Not Significant.\")\n",
    "    else:\n",
    "        print(\"Significant.\")   "
   ]
  },
  {
   "cell_type": "markdown",
   "id": "c3f4de8e",
   "metadata": {},
   "source": [
    "#### Checking for Normality of Dependent Variable:"
   ]
  },
  {
   "cell_type": "code",
   "execution_count": 46,
   "id": "9006cd50",
   "metadata": {},
   "outputs": [
    {
     "data": {
      "image/png": "[encoded data removed]",
      "text/plain": [
       "<Figure size 432x288 with 1 Axes>"
      ]
     },
     "metadata": {
      "needs_background": "light"
     },
     "output_type": "display_data"
    }
   ],
   "source": [
    "sns.kdeplot(y)\n",
    "plt.show()"
   ]
  },
  {
   "cell_type": "markdown",
   "id": "fceffd8e",
   "metadata": {},
   "source": [
    "##### Dependent variable is not normally distributed.\n",
    "\n",
    "##### To check the normality of the dependent variable, we do Shapiro-Wilk test."
   ]
  },
  {
   "cell_type": "code",
   "execution_count": 49,
   "id": "1b60f7bf",
   "metadata": {},
   "outputs": [
    {
     "name": "stdout",
     "output_type": "stream",
     "text": [
      "Statistic =  0.897249698638916 \n",
      "P_value =  5.5507900498241725e-09\n",
      "Not Significant.\n"
     ]
    }
   ],
   "source": [
    "#Shapiro-Wilk test\n",
    "statistic,p=shapiro(y)\n",
    "print(\"Statistic = \",statistic,\"\\nP_value = \",p)\n",
    "if p>0.05:\n",
    "    print(\"Significant.\")\n",
    "else:\n",
    "    print(\"Not Significant.\")\n"
   ]
  },
  {
   "cell_type": "markdown",
   "id": "46a077a3",
   "metadata": {},
   "source": [
    "#### To check the normality of the dependent variable, we do Kolmogorov-Smirnov test."
   ]
  },
  {
   "cell_type": "code",
   "execution_count": 50,
   "id": "6e350092",
   "metadata": {},
   "outputs": [
    {
     "name": "stdout",
     "output_type": "stream",
     "text": [
      "Statistic =  0.9935897417722358 \n",
      "P_value =  0.0\n",
      "Not Normally Distributed.\n"
     ]
    }
   ],
   "source": [
    "#KS Test\n",
    "stats,pv=kstest(y,'norm')\n",
    "print(\"Statistic = \",stats,\"\\nP_value = \",pv)\n",
    "if p>0.05:\n",
    "    print(\"Normally Distributed.\") #Normally distribute means significant\n",
    "else:\n",
    "    print(\"Not Normally Distributed.\")"
   ]
  },
  {
   "cell_type": "markdown",
   "id": "af36dd68",
   "metadata": {},
   "source": [
    "### Checking for Multi-collinearity:"
   ]
  },
  {
   "cell_type": "code",
   "execution_count": 59,
   "id": "efd74af3",
   "metadata": {},
   "outputs": [],
   "source": [
    "vif = pd.DataFrame()\n",
    "vif['feature'] = numerical_x.columns\n",
    "vif['VIF'] = [variance_inflation_factor(x.iloc[:,1:].values,i) for i in range(len(x.iloc[:,1:].columns))]"
   ]
  },
  {
   "cell_type": "code",
   "execution_count": 60,
   "id": "fdb24d0a",
   "metadata": {},
   "outputs": [
    {
     "data": {
      "text/html": [
       "<div>\n",
       "<style scoped>\n",
       "    .dataframe tbody tr th:only-of-type {\n",
       "        vertical-align: middle;\n",
       "    }\n",
       "\n",
       "    .dataframe tbody tr th {\n",
       "        vertical-align: top;\n",
       "    }\n",
       "\n",
       "    .dataframe thead th {\n",
       "        text-align: right;\n",
       "    }\n",
       "</style>\n",
       "<table border=\"1\" class=\"dataframe\">\n",
       "  <thead>\n",
       "    <tr style=\"text-align: right;\">\n",
       "      <th></th>\n",
       "      <th>feature</th>\n",
       "      <th>VIF</th>\n",
       "    </tr>\n",
       "  </thead>\n",
       "  <tbody>\n",
       "    <tr>\n",
       "      <th>0</th>\n",
       "      <td>Length1</td>\n",
       "      <td>11851.606958</td>\n",
       "    </tr>\n",
       "    <tr>\n",
       "      <th>1</th>\n",
       "      <td>Length2</td>\n",
       "      <td>15437.668442</td>\n",
       "    </tr>\n",
       "    <tr>\n",
       "      <th>2</th>\n",
       "      <td>Length3</td>\n",
       "      <td>3162.484126</td>\n",
       "    </tr>\n",
       "    <tr>\n",
       "      <th>3</th>\n",
       "      <td>Height</td>\n",
       "      <td>75.878342</td>\n",
       "    </tr>\n",
       "    <tr>\n",
       "      <th>4</th>\n",
       "      <td>Width</td>\n",
       "      <td>96.764212</td>\n",
       "    </tr>\n",
       "  </tbody>\n",
       "</table>\n",
       "</div>"
      ],
      "text/plain": [
       "   feature           VIF\n",
       "0  Length1  11851.606958\n",
       "1  Length2  15437.668442\n",
       "2  Length3   3162.484126\n",
       "3   Height     75.878342\n",
       "4    Width     96.764212"
      ]
     },
     "execution_count": 60,
     "metadata": {},
     "output_type": "execute_result"
    }
   ],
   "source": [
    "vif"
   ]
  },
  {
   "cell_type": "markdown",
   "id": "d655907e",
   "metadata": {},
   "source": [
    "### There is HUGE multi-collinearity problem, especially between the Lengths. Hence, we will drop those features and build the model."
   ]
  },
  {
   "cell_type": "code",
   "execution_count": 53,
   "id": "726a5bf6",
   "metadata": {
    "scrolled": true
   },
   "outputs": [
    {
     "data": {
      "text/html": [
       "<div>\n",
       "<style scoped>\n",
       "    .dataframe tbody tr th:only-of-type {\n",
       "        vertical-align: middle;\n",
       "    }\n",
       "\n",
       "    .dataframe tbody tr th {\n",
       "        vertical-align: top;\n",
       "    }\n",
       "\n",
       "    .dataframe thead th {\n",
       "        text-align: right;\n",
       "    }\n",
       "</style>\n",
       "<table border=\"1\" class=\"dataframe\">\n",
       "  <thead>\n",
       "    <tr style=\"text-align: right;\">\n",
       "      <th></th>\n",
       "      <th>Height</th>\n",
       "      <th>Width</th>\n",
       "    </tr>\n",
       "  </thead>\n",
       "  <tbody>\n",
       "    <tr>\n",
       "      <th>0</th>\n",
       "      <td>11.5200</td>\n",
       "      <td>4.0200</td>\n",
       "    </tr>\n",
       "    <tr>\n",
       "      <th>1</th>\n",
       "      <td>12.4800</td>\n",
       "      <td>4.3056</td>\n",
       "    </tr>\n",
       "    <tr>\n",
       "      <th>2</th>\n",
       "      <td>12.3778</td>\n",
       "      <td>4.6961</td>\n",
       "    </tr>\n",
       "    <tr>\n",
       "      <th>3</th>\n",
       "      <td>12.7300</td>\n",
       "      <td>4.4555</td>\n",
       "    </tr>\n",
       "    <tr>\n",
       "      <th>4</th>\n",
       "      <td>12.4440</td>\n",
       "      <td>5.1340</td>\n",
       "    </tr>\n",
       "  </tbody>\n",
       "</table>\n",
       "</div>"
      ],
      "text/plain": [
       "    Height   Width\n",
       "0  11.5200  4.0200\n",
       "1  12.4800  4.3056\n",
       "2  12.3778  4.6961\n",
       "3  12.7300  4.4555\n",
       "4  12.4440  5.1340"
      ]
     },
     "execution_count": 53,
     "metadata": {},
     "output_type": "execute_result"
    }
   ],
   "source": [
    "x1=x.drop(columns=['Length1','Length2','Length3','Species'],axis=1)\n",
    "x1.head()"
   ]
  },
  {
   "cell_type": "markdown",
   "id": "f6942383",
   "metadata": {},
   "source": [
    "#### Removing Categorical \"Species\" feature to build the model"
   ]
  },
  {
   "cell_type": "code",
   "execution_count": 61,
   "id": "1aadacac",
   "metadata": {},
   "outputs": [
    {
     "data": {
      "text/html": [
       "<div>\n",
       "<style scoped>\n",
       "    .dataframe tbody tr th:only-of-type {\n",
       "        vertical-align: middle;\n",
       "    }\n",
       "\n",
       "    .dataframe tbody tr th {\n",
       "        vertical-align: top;\n",
       "    }\n",
       "\n",
       "    .dataframe thead th {\n",
       "        text-align: right;\n",
       "    }\n",
       "</style>\n",
       "<table border=\"1\" class=\"dataframe\">\n",
       "  <thead>\n",
       "    <tr style=\"text-align: right;\">\n",
       "      <th></th>\n",
       "      <th>Length1</th>\n",
       "      <th>Length2</th>\n",
       "      <th>Length3</th>\n",
       "      <th>Height</th>\n",
       "      <th>Width</th>\n",
       "    </tr>\n",
       "  </thead>\n",
       "  <tbody>\n",
       "    <tr>\n",
       "      <th>0</th>\n",
       "      <td>23.2</td>\n",
       "      <td>25.4</td>\n",
       "      <td>30.0</td>\n",
       "      <td>11.5200</td>\n",
       "      <td>4.0200</td>\n",
       "    </tr>\n",
       "    <tr>\n",
       "      <th>1</th>\n",
       "      <td>24.0</td>\n",
       "      <td>26.3</td>\n",
       "      <td>31.2</td>\n",
       "      <td>12.4800</td>\n",
       "      <td>4.3056</td>\n",
       "    </tr>\n",
       "    <tr>\n",
       "      <th>2</th>\n",
       "      <td>23.9</td>\n",
       "      <td>26.5</td>\n",
       "      <td>31.1</td>\n",
       "      <td>12.3778</td>\n",
       "      <td>4.6961</td>\n",
       "    </tr>\n",
       "    <tr>\n",
       "      <th>3</th>\n",
       "      <td>26.3</td>\n",
       "      <td>29.0</td>\n",
       "      <td>33.5</td>\n",
       "      <td>12.7300</td>\n",
       "      <td>4.4555</td>\n",
       "    </tr>\n",
       "    <tr>\n",
       "      <th>4</th>\n",
       "      <td>26.5</td>\n",
       "      <td>29.0</td>\n",
       "      <td>34.0</td>\n",
       "      <td>12.4440</td>\n",
       "      <td>5.1340</td>\n",
       "    </tr>\n",
       "  </tbody>\n",
       "</table>\n",
       "</div>"
      ],
      "text/plain": [
       "   Length1  Length2  Length3   Height   Width\n",
       "0     23.2     25.4     30.0  11.5200  4.0200\n",
       "1     24.0     26.3     31.2  12.4800  4.3056\n",
       "2     23.9     26.5     31.1  12.3778  4.6961\n",
       "3     26.3     29.0     33.5  12.7300  4.4555\n",
       "4     26.5     29.0     34.0  12.4440  5.1340"
      ]
     },
     "execution_count": 61,
     "metadata": {},
     "output_type": "execute_result"
    }
   ],
   "source": [
    "x2=x.drop(columns=['Species'],axis=1)\n",
    "x2.head()"
   ]
  },
  {
   "cell_type": "code",
   "execution_count": 62,
   "id": "4419a780",
   "metadata": {},
   "outputs": [],
   "source": [
    "xtrain,xtest,ytrain,ytest = train_test_split(x2,y,test_size=0.3,random_state=42)"
   ]
  },
  {
   "cell_type": "code",
   "execution_count": 65,
   "id": "a1b5279d",
   "metadata": {},
   "outputs": [
    {
     "name": "stdout",
     "output_type": "stream",
     "text": [
      "(109, 5)\n",
      "(109, 5)\n",
      "(47, 5)\n",
      "(47, 5)\n"
     ]
    }
   ],
   "source": [
    "print(xtrain.shape)\n",
    "print(xtrain.shape)\n",
    "print(xtest.shape)\n",
    "print(xtest.shape)"
   ]
  },
  {
   "cell_type": "code",
   "execution_count": 66,
   "id": "c8b59837",
   "metadata": {},
   "outputs": [
    {
     "data": {
      "text/plain": [
       "LinearRegression()"
      ]
     },
     "execution_count": 66,
     "metadata": {},
     "output_type": "execute_result"
    }
   ],
   "source": [
    "lm=linear_model.LinearRegression()\n",
    "lm.fit(xtrain,ytrain)"
   ]
  },
  {
   "cell_type": "code",
   "execution_count": 67,
   "id": "aab4c344",
   "metadata": {},
   "outputs": [
    {
     "name": "stdout",
     "output_type": "stream",
     "text": [
      "Co-efficient: [120.34509044 -61.17858882 -35.22991173  34.14060743  38.10723795]\n",
      "Intercept: -405.5596609218128\n"
     ]
    }
   ],
   "source": [
    "print(\"Co-efficient:\",lm.coef_)\n",
    "print(\"Intercept:\",lm.intercept_)"
   ]
  },
  {
   "cell_type": "markdown",
   "id": "91765a85",
   "metadata": {},
   "source": [
    "### Printing regression equation"
   ]
  },
  {
   "cell_type": "code",
   "execution_count": 68,
   "id": "d5ae30f0",
   "metadata": {},
   "outputs": [],
   "source": [
    "b0=lm.intercept_\n",
    "b=list(lm.coef_)"
   ]
  },
  {
   "cell_type": "code",
   "execution_count": 69,
   "id": "a852d1f1",
   "metadata": {},
   "outputs": [
    {
     "name": "stdout",
     "output_type": "stream",
     "text": [
      "Regression equation:\n",
      "\n",
      "Y= -405.5596609218128 + 120.34509043854823 *  x1+ \n",
      "-61.17858881876338 *  x2+ \n",
      "-35.22991173178059 *  x3+ \n",
      "34.14060743063474 *  x4+ \n",
      "38.10723795106997 *  x5"
     ]
    }
   ],
   "source": [
    "print(\"Regression equation:\\n\")\n",
    "print(\"Y=\",b0,\"+ \",end='')\n",
    "for i in range(len(b)):\n",
    "    print(b[i],\"* \",\"x\"+str(i+1),end='')\n",
    "    if i != (len(b)-1):\n",
    "        print(\"+ \")"
   ]
  },
  {
   "cell_type": "code",
   "execution_count": 70,
   "id": "9dd41be1",
   "metadata": {},
   "outputs": [
    {
     "data": {
      "text/plain": [
       "array([ 165.95979286,  550.60481006,  774.09029118,  248.01238841,\n",
       "        845.81064141,  652.13917788,  862.6640129 ,  751.52086859,\n",
       "        146.67573038,  432.07743958,  835.95555704,  163.37927197,\n",
       "        747.63504435,  225.15331086,  593.48711619, -104.57336784,\n",
       "        521.82946907,  642.50326318, -109.0662112 ,  322.10382347,\n",
       "        739.62301138,  185.40465105,  221.18111841,  100.45689288,\n",
       "        686.59088692,  172.38147909,  373.29448038,  628.47128687,\n",
       "        611.55682314,  632.25053584,  175.60411009,  137.67738124,\n",
       "       -144.46328711, -115.57694909, -167.09870629,  239.76309738,\n",
       "        712.24039531,   60.91455926,  -60.64034659,  863.31647376,\n",
       "       -141.62124135, -122.13337586,   66.84391478,  -50.49852625,\n",
       "        219.59692597,  347.63583849,  432.37054062,  433.24468454,\n",
       "        891.04576888,  244.28225214,  -58.43552385,   95.82528896,\n",
       "         71.27481002,  865.47989307,  214.74874143,  458.84470214,\n",
       "        174.61138023,  382.94261947,  753.51298506,  177.50659053,\n",
       "        131.64041225,  842.9203058 ,  954.1703572 ,  162.41435057,\n",
       "        506.75690103,  541.13521102,  680.10100078,  496.9773548 ,\n",
       "        409.53183014,  585.74081877,  104.0102593 , -201.13489802,\n",
       "        637.36284639,  472.49851875,  629.05354225,  290.70358089,\n",
       "        355.3461528 ,  778.58800331,  130.33071203,  713.77495161,\n",
       "        500.10025156,  451.08305593,  282.01580363, -105.28527062,\n",
       "        546.78854598,  218.87046959,  170.43739332,  662.87394882,\n",
       "        355.28198326, -113.78162352,  350.93467717,  104.48085594,\n",
       "       -120.12601576,  364.70168209,  337.78574941,  391.30328859,\n",
       "        360.53743275,  259.53649035,  808.31589603,  154.39130783,\n",
       "         -2.92434735,  813.37636009,  -61.48260454,  618.32257784,\n",
       "        419.86823085,  389.82194574,  571.91564511,  209.46219909,\n",
       "        425.78326585])"
      ]
     },
     "execution_count": 70,
     "metadata": {},
     "output_type": "execute_result"
    }
   ],
   "source": [
    "train_pred=lm.predict(xtrain)\n",
    "train_pred"
   ]
  },
  {
   "cell_type": "code",
   "execution_count": 71,
   "id": "d09f5961",
   "metadata": {},
   "outputs": [
    {
     "data": {
      "text/plain": [
       "98.92707429620268"
      ]
     },
     "execution_count": 71,
     "metadata": {},
     "output_type": "execute_result"
    }
   ],
   "source": [
    "train_rmse=np.sqrt(mean_squared_error(ytrain,train_pred))\n",
    "train_rmse"
   ]
  },
  {
   "cell_type": "code",
   "execution_count": 72,
   "id": "e19983b3",
   "metadata": {},
   "outputs": [
    {
     "data": {
      "text/plain": [
       "86     -45.959793\n",
       "11     -50.604810\n",
       "60     225.909709\n",
       "67     -78.012388\n",
       "124    154.189359\n",
       "Name: Weight, dtype: float64"
      ]
     },
     "execution_count": 72,
     "metadata": {},
     "output_type": "execute_result"
    }
   ],
   "source": [
    "errors=ytrain-train_pred\n",
    "errors.head()"
   ]
  },
  {
   "cell_type": "code",
   "execution_count": 73,
   "id": "c0b487cb",
   "metadata": {},
   "outputs": [
    {
     "data": {
      "image/png": "[encoded data removed]",
      "text/plain": [
       "<Figure size 432x288 with 1 Axes>"
      ]
     },
     "metadata": {
      "needs_background": "light"
     },
     "output_type": "display_data"
    }
   ],
   "source": [
    "sns.kdeplot(errors)\n",
    "plt.show()"
   ]
  },
  {
   "cell_type": "code",
   "execution_count": 74,
   "id": "39067d18",
   "metadata": {},
   "outputs": [
    {
     "data": {
      "text/plain": [
       "0.9014288885350767"
      ]
     },
     "execution_count": 74,
     "metadata": {},
     "output_type": "execute_result"
    }
   ],
   "source": [
    "r2_score(ytrain,train_pred)"
   ]
  },
  {
   "cell_type": "code",
   "execution_count": 75,
   "id": "19c143ed",
   "metadata": {},
   "outputs": [
    {
     "data": {
      "text/plain": [
       "array([ 266.2441448 ,  322.53856418,  133.39031697,   36.3269938 ,\n",
       "        703.31973506,  760.42442995,  167.78646271,  538.37605205,\n",
       "        185.84101898,  712.62102305,  624.66517314,  168.29018829,\n",
       "        604.01952463,  896.4448434 ,  632.82857816,  753.61012439,\n",
       "        775.86028283,  398.03373599, -100.42065151,   85.26595311,\n",
       "        274.85190861,  633.10136951,  523.18799714,  545.46373672,\n",
       "        758.19620467,  356.59077853,  265.60756855,  280.81894787,\n",
       "        300.75719793,  238.79000545,  179.38530728, -124.53525382,\n",
       "        281.27550541,  715.04232094,  845.88642893,  321.45339972,\n",
       "        922.88193748,  214.28565139,  143.72865253,  664.57307793,\n",
       "        618.45510617,   98.98282264,  466.21090736,   39.93118033,\n",
       "         59.63940796,  607.18631196,  608.12276776])"
      ]
     },
     "execution_count": 75,
     "metadata": {},
     "output_type": "execute_result"
    }
   ],
   "source": [
    "test_pred=lm.predict(xtest)\n",
    "test_pred"
   ]
  },
  {
   "cell_type": "code",
   "execution_count": 76,
   "id": "ec60b4a1",
   "metadata": {},
   "outputs": [
    {
     "data": {
      "text/plain": [
       "104.87626435528452"
      ]
     },
     "execution_count": 76,
     "metadata": {},
     "output_type": "execute_result"
    }
   ],
   "source": [
    "test_rmse=np.sqrt(mean_squared_error(ytest,test_pred))\n",
    "test_rmse"
   ]
  },
  {
   "cell_type": "code",
   "execution_count": 77,
   "id": "56568c53",
   "metadata": {},
   "outputs": [
    {
     "data": {
      "text/plain": [
       "96     -41.244145\n",
       "69    -122.538564\n",
       "82     -23.390317\n",
       "76      33.673006\n",
       "114     -3.319735\n",
       "Name: Weight, dtype: float64"
      ]
     },
     "execution_count": 77,
     "metadata": {},
     "output_type": "execute_result"
    }
   ],
   "source": [
    "errors1=ytest-test_pred\n",
    "errors1.head()"
   ]
  },
  {
   "cell_type": "code",
   "execution_count": 78,
   "id": "005a17a5",
   "metadata": {},
   "outputs": [
    {
     "data": {
      "image/png": "[encoded data removed]",
      "text/plain": [
       "<Figure size 432x288 with 1 Axes>"
      ]
     },
     "metadata": {
      "needs_background": "light"
     },
     "output_type": "display_data"
    }
   ],
   "source": [
    "sns.kdeplot(errors1)\n",
    "plt.show()"
   ]
  },
  {
   "cell_type": "markdown",
   "id": "546fcddd",
   "metadata": {},
   "source": [
    "### The errors are not normally distributed."
   ]
  },
  {
   "cell_type": "code",
   "execution_count": 79,
   "id": "d9c7055f",
   "metadata": {},
   "outputs": [
    {
     "data": {
      "text/plain": [
       "0.895213543861235"
      ]
     },
     "execution_count": 79,
     "metadata": {},
     "output_type": "execute_result"
    }
   ],
   "source": [
    "r2_score(ytest,test_pred)"
   ]
  },
  {
   "cell_type": "code",
   "execution_count": 80,
   "id": "e8276de8",
   "metadata": {},
   "outputs": [
    {
     "name": "stdout",
     "output_type": "stream",
     "text": [
      "Train rmse: 98.92707429620268\n",
      "Test rmse: 104.87626435528452\n"
     ]
    }
   ],
   "source": [
    "print(\"Train rmse:\",train_rmse)\n",
    "print(\"Test rmse:\",test_rmse)"
   ]
  },
  {
   "cell_type": "markdown",
   "id": "6e32067a",
   "metadata": {},
   "source": [
    "## Train_rmse is less than Test_rmse, therefore there is an overfitting problem."
   ]
  },
  {
   "cell_type": "code",
   "execution_count": 82,
   "id": "edfbaa27",
   "metadata": {},
   "outputs": [
    {
     "name": "stderr",
     "output_type": "stream",
     "text": [
      "C:\\Users\\Abilash\\anaconda3\\lib\\site-packages\\statsmodels\\tsa\\tsatools.py:142: FutureWarning: In a future version of pandas all arguments of concat except for the argument 'objs' will be keyword-only\n",
      "  x = pd.concat(x[::order], 1)\n"
     ]
    },
    {
     "data": {
      "text/html": [
       "<div>\n",
       "<style scoped>\n",
       "    .dataframe tbody tr th:only-of-type {\n",
       "        vertical-align: middle;\n",
       "    }\n",
       "\n",
       "    .dataframe tbody tr th {\n",
       "        vertical-align: top;\n",
       "    }\n",
       "\n",
       "    .dataframe thead th {\n",
       "        text-align: right;\n",
       "    }\n",
       "</style>\n",
       "<table border=\"1\" class=\"dataframe\">\n",
       "  <thead>\n",
       "    <tr style=\"text-align: right;\">\n",
       "      <th></th>\n",
       "      <th>const</th>\n",
       "      <th>Length1</th>\n",
       "      <th>Length2</th>\n",
       "      <th>Length3</th>\n",
       "      <th>Height</th>\n",
       "      <th>Width</th>\n",
       "    </tr>\n",
       "  </thead>\n",
       "  <tbody>\n",
       "    <tr>\n",
       "      <th>86</th>\n",
       "      <td>1.0</td>\n",
       "      <td>20.0</td>\n",
       "      <td>22.0</td>\n",
       "      <td>23.5</td>\n",
       "      <td>6.1100</td>\n",
       "      <td>3.4075</td>\n",
       "    </tr>\n",
       "    <tr>\n",
       "      <th>11</th>\n",
       "      <td>1.0</td>\n",
       "      <td>28.7</td>\n",
       "      <td>31.0</td>\n",
       "      <td>36.2</td>\n",
       "      <td>14.3714</td>\n",
       "      <td>4.8146</td>\n",
       "    </tr>\n",
       "    <tr>\n",
       "      <th>60</th>\n",
       "      <td>1.0</td>\n",
       "      <td>37.3</td>\n",
       "      <td>40.0</td>\n",
       "      <td>43.5</td>\n",
       "      <td>12.3540</td>\n",
       "      <td>6.5250</td>\n",
       "    </tr>\n",
       "    <tr>\n",
       "      <th>67</th>\n",
       "      <td>1.0</td>\n",
       "      <td>19.0</td>\n",
       "      <td>20.7</td>\n",
       "      <td>23.2</td>\n",
       "      <td>9.3960</td>\n",
       "      <td>3.4104</td>\n",
       "    </tr>\n",
       "    <tr>\n",
       "      <th>124</th>\n",
       "      <td>1.0</td>\n",
       "      <td>39.8</td>\n",
       "      <td>43.0</td>\n",
       "      <td>45.2</td>\n",
       "      <td>11.9328</td>\n",
       "      <td>7.2772</td>\n",
       "    </tr>\n",
       "  </tbody>\n",
       "</table>\n",
       "</div>"
      ],
      "text/plain": [
       "     const  Length1  Length2  Length3   Height   Width\n",
       "86     1.0     20.0     22.0     23.5   6.1100  3.4075\n",
       "11     1.0     28.7     31.0     36.2  14.3714  4.8146\n",
       "60     1.0     37.3     40.0     43.5  12.3540  6.5250\n",
       "67     1.0     19.0     20.7     23.2   9.3960  3.4104\n",
       "124    1.0     39.8     43.0     45.2  11.9328  7.2772"
      ]
     },
     "execution_count": 82,
     "metadata": {},
     "output_type": "execute_result"
    }
   ],
   "source": [
    "xtrain1=sm.add_constant(xtrain) #adding constant in the training values to get the beta-0 value.\n",
    "xtrain1.head()"
   ]
  },
  {
   "cell_type": "code",
   "execution_count": 84,
   "id": "590120d0",
   "metadata": {},
   "outputs": [],
   "source": [
    "model=sm.OLS(ytrain,xtrain1).fit()"
   ]
  },
  {
   "cell_type": "code",
   "execution_count": 85,
   "id": "f19cff93",
   "metadata": {},
   "outputs": [
    {
     "data": {
      "text/html": [
       "<table class=\"simpletable\">\n",
       "<caption>OLS Regression Results</caption>\n",
       "<tr>\n",
       "  <th>Dep. Variable:</th>         <td>Weight</td>      <th>  R-squared:         </th> <td>   0.901</td>\n",
       "</tr>\n",
       "<tr>\n",
       "  <th>Model:</th>                   <td>OLS</td>       <th>  Adj. R-squared:    </th> <td>   0.897</td>\n",
       "</tr>\n",
       "<tr>\n",
       "  <th>Method:</th>             <td>Least Squares</td>  <th>  F-statistic:       </th> <td>   188.4</td>\n",
       "</tr>\n",
       "<tr>\n",
       "  <th>Date:</th>             <td>Tue, 29 Mar 2022</td> <th>  Prob (F-statistic):</th> <td>3.73e-50</td>\n",
       "</tr>\n",
       "<tr>\n",
       "  <th>Time:</th>                 <td>22:35:21</td>     <th>  Log-Likelihood:    </th> <td> -655.45</td>\n",
       "</tr>\n",
       "<tr>\n",
       "  <th>No. Observations:</th>      <td>   109</td>      <th>  AIC:               </th> <td>   1323.</td>\n",
       "</tr>\n",
       "<tr>\n",
       "  <th>Df Residuals:</th>          <td>   103</td>      <th>  BIC:               </th> <td>   1339.</td>\n",
       "</tr>\n",
       "<tr>\n",
       "  <th>Df Model:</th>              <td>     5</td>      <th>                     </th>     <td> </td>   \n",
       "</tr>\n",
       "<tr>\n",
       "  <th>Covariance Type:</th>      <td>nonrobust</td>    <th>                     </th>     <td> </td>   \n",
       "</tr>\n",
       "</table>\n",
       "<table class=\"simpletable\">\n",
       "<tr>\n",
       "     <td></td>        <th>coef</th>     <th>std err</th>      <th>t</th>      <th>P>|t|</th>  <th>[0.025</th>    <th>0.975]</th>  \n",
       "</tr>\n",
       "<tr>\n",
       "  <th>const</th>   <td> -405.5597</td> <td>   29.397</td> <td>  -13.796</td> <td> 0.000</td> <td> -463.862</td> <td> -347.258</td>\n",
       "</tr>\n",
       "<tr>\n",
       "  <th>Length1</th> <td>  120.3451</td> <td>   41.341</td> <td>    2.911</td> <td> 0.004</td> <td>   38.355</td> <td>  202.336</td>\n",
       "</tr>\n",
       "<tr>\n",
       "  <th>Length2</th> <td>  -61.1786</td> <td>   41.913</td> <td>   -1.460</td> <td> 0.147</td> <td> -144.304</td> <td>   21.947</td>\n",
       "</tr>\n",
       "<tr>\n",
       "  <th>Length3</th> <td>  -35.2299</td> <td>   16.421</td> <td>   -2.145</td> <td> 0.034</td> <td>  -67.797</td> <td>   -2.662</td>\n",
       "</tr>\n",
       "<tr>\n",
       "  <th>Height</th>  <td>   34.1406</td> <td>    8.634</td> <td>    3.954</td> <td> 0.000</td> <td>   17.017</td> <td>   51.264</td>\n",
       "</tr>\n",
       "<tr>\n",
       "  <th>Width</th>   <td>   38.1072</td> <td>   20.941</td> <td>    1.820</td> <td> 0.072</td> <td>   -3.424</td> <td>   79.639</td>\n",
       "</tr>\n",
       "</table>\n",
       "<table class=\"simpletable\">\n",
       "<tr>\n",
       "  <th>Omnibus:</th>       <td> 5.802</td> <th>  Durbin-Watson:     </th> <td>   1.976</td>\n",
       "</tr>\n",
       "<tr>\n",
       "  <th>Prob(Omnibus):</th> <td> 0.055</td> <th>  Jarque-Bera (JB):  </th> <td>   5.815</td>\n",
       "</tr>\n",
       "<tr>\n",
       "  <th>Skew:</th>          <td> 0.528</td> <th>  Prob(JB):          </th> <td>  0.0546</td>\n",
       "</tr>\n",
       "<tr>\n",
       "  <th>Kurtosis:</th>      <td> 2.595</td> <th>  Cond. No.          </th> <td>    305.</td>\n",
       "</tr>\n",
       "</table><br/><br/>Notes:<br/>[1] Standard Errors assume that the covariance matrix of the errors is correctly specified."
      ],
      "text/plain": [
       "<class 'statsmodels.iolib.summary.Summary'>\n",
       "\"\"\"\n",
       "                            OLS Regression Results                            \n",
       "==============================================================================\n",
       "Dep. Variable:                 Weight   R-squared:                       0.901\n",
       "Model:                            OLS   Adj. R-squared:                  0.897\n",
       "Method:                 Least Squares   F-statistic:                     188.4\n",
       "Date:                Tue, 29 Mar 2022   Prob (F-statistic):           3.73e-50\n",
       "Time:                        22:35:21   Log-Likelihood:                -655.45\n",
       "No. Observations:                 109   AIC:                             1323.\n",
       "Df Residuals:                     103   BIC:                             1339.\n",
       "Df Model:                           5                                         \n",
       "Covariance Type:            nonrobust                                         \n",
       "==============================================================================\n",
       "                 coef    std err          t      P>|t|      [0.025      0.975]\n",
       "------------------------------------------------------------------------------\n",
       "const       -405.5597     29.397    -13.796      0.000    -463.862    -347.258\n",
       "Length1      120.3451     41.341      2.911      0.004      38.355     202.336\n",
       "Length2      -61.1786     41.913     -1.460      0.147    -144.304      21.947\n",
       "Length3      -35.2299     16.421     -2.145      0.034     -67.797      -2.662\n",
       "Height        34.1406      8.634      3.954      0.000      17.017      51.264\n",
       "Width         38.1072     20.941      1.820      0.072      -3.424      79.639\n",
       "==============================================================================\n",
       "Omnibus:                        5.802   Durbin-Watson:                   1.976\n",
       "Prob(Omnibus):                  0.055   Jarque-Bera (JB):                5.815\n",
       "Skew:                           0.528   Prob(JB):                       0.0546\n",
       "Kurtosis:                       2.595   Cond. No.                         305.\n",
       "==============================================================================\n",
       "\n",
       "Notes:\n",
       "[1] Standard Errors assume that the covariance matrix of the errors is correctly specified.\n",
       "\"\"\""
      ]
     },
     "execution_count": 85,
     "metadata": {},
     "output_type": "execute_result"
    }
   ],
   "source": [
    "model.summary()"
   ]
  },
  {
   "cell_type": "markdown",
   "id": "2e718b12",
   "metadata": {},
   "source": [
    "## Comparing real and predicted weights"
   ]
  },
  {
   "cell_type": "code",
   "execution_count": 86,
   "id": "2b30f859",
   "metadata": {},
   "outputs": [
    {
     "data": {
      "text/html": [
       "<div>\n",
       "<style scoped>\n",
       "    .dataframe tbody tr th:only-of-type {\n",
       "        vertical-align: middle;\n",
       "    }\n",
       "\n",
       "    .dataframe tbody tr th {\n",
       "        vertical-align: top;\n",
       "    }\n",
       "\n",
       "    .dataframe thead th {\n",
       "        text-align: right;\n",
       "    }\n",
       "</style>\n",
       "<table border=\"1\" class=\"dataframe\">\n",
       "  <thead>\n",
       "    <tr style=\"text-align: right;\">\n",
       "      <th></th>\n",
       "      <th>Actual</th>\n",
       "      <th>Predicted</th>\n",
       "      <th>Errors</th>\n",
       "    </tr>\n",
       "  </thead>\n",
       "  <tbody>\n",
       "    <tr>\n",
       "      <th>96</th>\n",
       "      <td>225.0</td>\n",
       "      <td>266.244145</td>\n",
       "      <td>-41.244145</td>\n",
       "    </tr>\n",
       "    <tr>\n",
       "      <th>69</th>\n",
       "      <td>200.0</td>\n",
       "      <td>322.538564</td>\n",
       "      <td>-122.538564</td>\n",
       "    </tr>\n",
       "    <tr>\n",
       "      <th>82</th>\n",
       "      <td>110.0</td>\n",
       "      <td>133.390317</td>\n",
       "      <td>-23.390317</td>\n",
       "    </tr>\n",
       "    <tr>\n",
       "      <th>76</th>\n",
       "      <td>70.0</td>\n",
       "      <td>36.326994</td>\n",
       "      <td>33.673006</td>\n",
       "    </tr>\n",
       "    <tr>\n",
       "      <th>114</th>\n",
       "      <td>700.0</td>\n",
       "      <td>703.319735</td>\n",
       "      <td>-3.319735</td>\n",
       "    </tr>\n",
       "    <tr>\n",
       "      <th>29</th>\n",
       "      <td>1000.0</td>\n",
       "      <td>760.424430</td>\n",
       "      <td>239.575570</td>\n",
       "    </tr>\n",
       "    <tr>\n",
       "      <th>94</th>\n",
       "      <td>150.0</td>\n",
       "      <td>167.786463</td>\n",
       "      <td>-17.786463</td>\n",
       "    </tr>\n",
       "    <tr>\n",
       "      <th>132</th>\n",
       "      <td>430.0</td>\n",
       "      <td>538.376052</td>\n",
       "      <td>-108.376052</td>\n",
       "    </tr>\n",
       "    <tr>\n",
       "      <th>93</th>\n",
       "      <td>145.0</td>\n",
       "      <td>185.841019</td>\n",
       "      <td>-40.841019</td>\n",
       "    </tr>\n",
       "    <tr>\n",
       "      <th>139</th>\n",
       "      <td>770.0</td>\n",
       "      <td>712.621023</td>\n",
       "      <td>57.378977</td>\n",
       "    </tr>\n",
       "    <tr>\n",
       "      <th>19</th>\n",
       "      <td>650.0</td>\n",
       "      <td>624.665173</td>\n",
       "      <td>25.334827</td>\n",
       "    </tr>\n",
       "    <tr>\n",
       "      <th>90</th>\n",
       "      <td>110.0</td>\n",
       "      <td>168.290188</td>\n",
       "      <td>-58.290188</td>\n",
       "    </tr>\n",
       "    <tr>\n",
       "      <th>15</th>\n",
       "      <td>600.0</td>\n",
       "      <td>604.019525</td>\n",
       "      <td>-4.019525</td>\n",
       "    </tr>\n",
       "    <tr>\n",
       "      <th>125</th>\n",
       "      <td>1100.0</td>\n",
       "      <td>896.444843</td>\n",
       "      <td>203.555157</td>\n",
       "    </tr>\n",
       "    <tr>\n",
       "      <th>24</th>\n",
       "      <td>700.0</td>\n",
       "      <td>632.828578</td>\n",
       "      <td>67.171422</td>\n",
       "    </tr>\n",
       "    <tr>\n",
       "      <th>30</th>\n",
       "      <td>920.0</td>\n",
       "      <td>753.610124</td>\n",
       "      <td>166.389876</td>\n",
       "    </tr>\n",
       "    <tr>\n",
       "      <th>119</th>\n",
       "      <td>850.0</td>\n",
       "      <td>775.860283</td>\n",
       "      <td>74.139717</td>\n",
       "    </tr>\n",
       "    <tr>\n",
       "      <th>101</th>\n",
       "      <td>218.0</td>\n",
       "      <td>398.033736</td>\n",
       "      <td>-180.033736</td>\n",
       "    </tr>\n",
       "    <tr>\n",
       "      <th>155</th>\n",
       "      <td>13.4</td>\n",
       "      <td>-100.420652</td>\n",
       "      <td>113.820652</td>\n",
       "    </tr>\n",
       "    <tr>\n",
       "      <th>78</th>\n",
       "      <td>78.0</td>\n",
       "      <td>85.265953</td>\n",
       "      <td>-7.265953</td>\n",
       "    </tr>\n",
       "    <tr>\n",
       "      <th>98</th>\n",
       "      <td>188.0</td>\n",
       "      <td>274.851909</td>\n",
       "      <td>-86.851909</td>\n",
       "    </tr>\n",
       "    <tr>\n",
       "      <th>18</th>\n",
       "      <td>610.0</td>\n",
       "      <td>633.101370</td>\n",
       "      <td>-23.101370</td>\n",
       "    </tr>\n",
       "    <tr>\n",
       "      <th>12</th>\n",
       "      <td>500.0</td>\n",
       "      <td>523.187997</td>\n",
       "      <td>-23.187997</td>\n",
       "    </tr>\n",
       "    <tr>\n",
       "      <th>9</th>\n",
       "      <td>500.0</td>\n",
       "      <td>545.463737</td>\n",
       "      <td>-45.463737</td>\n",
       "    </tr>\n",
       "    <tr>\n",
       "      <th>31</th>\n",
       "      <td>955.0</td>\n",
       "      <td>758.196205</td>\n",
       "      <td>196.803795</td>\n",
       "    </tr>\n",
       "    <tr>\n",
       "      <th>104</th>\n",
       "      <td>265.0</td>\n",
       "      <td>356.590779</td>\n",
       "      <td>-91.590779</td>\n",
       "    </tr>\n",
       "    <tr>\n",
       "      <th>68</th>\n",
       "      <td>145.0</td>\n",
       "      <td>265.607569</td>\n",
       "      <td>-120.607569</td>\n",
       "    </tr>\n",
       "    <tr>\n",
       "      <th>55</th>\n",
       "      <td>270.0</td>\n",
       "      <td>280.818948</td>\n",
       "      <td>-10.818948</td>\n",
       "    </tr>\n",
       "    <tr>\n",
       "      <th>51</th>\n",
       "      <td>180.0</td>\n",
       "      <td>300.757198</td>\n",
       "      <td>-120.757198</td>\n",
       "    </tr>\n",
       "    <tr>\n",
       "      <th>97</th>\n",
       "      <td>145.0</td>\n",
       "      <td>238.790005</td>\n",
       "      <td>-93.790005</td>\n",
       "    </tr>\n",
       "    <tr>\n",
       "      <th>45</th>\n",
       "      <td>160.0</td>\n",
       "      <td>179.385307</td>\n",
       "      <td>-19.385307</td>\n",
       "    </tr>\n",
       "    <tr>\n",
       "      <th>150</th>\n",
       "      <td>8.7</td>\n",
       "      <td>-124.535254</td>\n",
       "      <td>133.235254</td>\n",
       "    </tr>\n",
       "    <tr>\n",
       "      <th>56</th>\n",
       "      <td>270.0</td>\n",
       "      <td>281.275505</td>\n",
       "      <td>-11.275505</td>\n",
       "    </tr>\n",
       "    <tr>\n",
       "      <th>138</th>\n",
       "      <td>567.0</td>\n",
       "      <td>715.042321</td>\n",
       "      <td>-148.042321</td>\n",
       "    </tr>\n",
       "    <tr>\n",
       "      <th>123</th>\n",
       "      <td>1100.0</td>\n",
       "      <td>845.886429</td>\n",
       "      <td>254.113571</td>\n",
       "    </tr>\n",
       "    <tr>\n",
       "      <th>128</th>\n",
       "      <td>200.0</td>\n",
       "      <td>321.453400</td>\n",
       "      <td>-121.453400</td>\n",
       "    </tr>\n",
       "    <tr>\n",
       "      <th>127</th>\n",
       "      <td>1000.0</td>\n",
       "      <td>922.881937</td>\n",
       "      <td>77.118063</td>\n",
       "    </tr>\n",
       "    <tr>\n",
       "      <th>66</th>\n",
       "      <td>140.0</td>\n",
       "      <td>214.285651</td>\n",
       "      <td>-74.285651</td>\n",
       "    </tr>\n",
       "    <tr>\n",
       "      <th>42</th>\n",
       "      <td>120.0</td>\n",
       "      <td>143.728653</td>\n",
       "      <td>-23.728653</td>\n",
       "    </tr>\n",
       "    <tr>\n",
       "      <th>26</th>\n",
       "      <td>720.0</td>\n",
       "      <td>664.573078</td>\n",
       "      <td>55.426922</td>\n",
       "    </tr>\n",
       "    <tr>\n",
       "      <th>134</th>\n",
       "      <td>456.0</td>\n",
       "      <td>618.455106</td>\n",
       "      <td>-162.455106</td>\n",
       "    </tr>\n",
       "    <tr>\n",
       "      <th>79</th>\n",
       "      <td>80.0</td>\n",
       "      <td>98.982823</td>\n",
       "      <td>-18.982823</td>\n",
       "    </tr>\n",
       "    <tr>\n",
       "      <th>131</th>\n",
       "      <td>300.0</td>\n",
       "      <td>466.210907</td>\n",
       "      <td>-166.210907</td>\n",
       "    </tr>\n",
       "    <tr>\n",
       "      <th>36</th>\n",
       "      <td>69.0</td>\n",
       "      <td>39.931180</td>\n",
       "      <td>29.068820</td>\n",
       "    </tr>\n",
       "    <tr>\n",
       "      <th>75</th>\n",
       "      <td>51.5</td>\n",
       "      <td>59.639408</td>\n",
       "      <td>-8.139408</td>\n",
       "    </tr>\n",
       "    <tr>\n",
       "      <th>22</th>\n",
       "      <td>620.0</td>\n",
       "      <td>607.186312</td>\n",
       "      <td>12.813688</td>\n",
       "    </tr>\n",
       "    <tr>\n",
       "      <th>135</th>\n",
       "      <td>510.0</td>\n",
       "      <td>608.122768</td>\n",
       "      <td>-98.122768</td>\n",
       "    </tr>\n",
       "  </tbody>\n",
       "</table>\n",
       "</div>"
      ],
      "text/plain": [
       "     Actual   Predicted      Errors\n",
       "96    225.0  266.244145  -41.244145\n",
       "69    200.0  322.538564 -122.538564\n",
       "82    110.0  133.390317  -23.390317\n",
       "76     70.0   36.326994   33.673006\n",
       "114   700.0  703.319735   -3.319735\n",
       "29   1000.0  760.424430  239.575570\n",
       "94    150.0  167.786463  -17.786463\n",
       "132   430.0  538.376052 -108.376052\n",
       "93    145.0  185.841019  -40.841019\n",
       "139   770.0  712.621023   57.378977\n",
       "19    650.0  624.665173   25.334827\n",
       "90    110.0  168.290188  -58.290188\n",
       "15    600.0  604.019525   -4.019525\n",
       "125  1100.0  896.444843  203.555157\n",
       "24    700.0  632.828578   67.171422\n",
       "30    920.0  753.610124  166.389876\n",
       "119   850.0  775.860283   74.139717\n",
       "101   218.0  398.033736 -180.033736\n",
       "155    13.4 -100.420652  113.820652\n",
       "78     78.0   85.265953   -7.265953\n",
       "98    188.0  274.851909  -86.851909\n",
       "18    610.0  633.101370  -23.101370\n",
       "12    500.0  523.187997  -23.187997\n",
       "9     500.0  545.463737  -45.463737\n",
       "31    955.0  758.196205  196.803795\n",
       "104   265.0  356.590779  -91.590779\n",
       "68    145.0  265.607569 -120.607569\n",
       "55    270.0  280.818948  -10.818948\n",
       "51    180.0  300.757198 -120.757198\n",
       "97    145.0  238.790005  -93.790005\n",
       "45    160.0  179.385307  -19.385307\n",
       "150     8.7 -124.535254  133.235254\n",
       "56    270.0  281.275505  -11.275505\n",
       "138   567.0  715.042321 -148.042321\n",
       "123  1100.0  845.886429  254.113571\n",
       "128   200.0  321.453400 -121.453400\n",
       "127  1000.0  922.881937   77.118063\n",
       "66    140.0  214.285651  -74.285651\n",
       "42    120.0  143.728653  -23.728653\n",
       "26    720.0  664.573078   55.426922\n",
       "134   456.0  618.455106 -162.455106\n",
       "79     80.0   98.982823  -18.982823\n",
       "131   300.0  466.210907 -166.210907\n",
       "36     69.0   39.931180   29.068820\n",
       "75     51.5   59.639408   -8.139408\n",
       "22    620.0  607.186312   12.813688\n",
       "135   510.0  608.122768  -98.122768"
      ]
     },
     "execution_count": 86,
     "metadata": {},
     "output_type": "execute_result"
    }
   ],
   "source": [
    "data = pd.DataFrame({'Actual': ytest, 'Predicted': test_pred, 'Errors': errors1})\n",
    "data"
   ]
  },
  {
   "cell_type": "markdown",
   "id": "f0e57f67",
   "metadata": {},
   "source": [
    "# This model has 90% accuracy."
   ]
  },
  {
   "cell_type": "code",
   "execution_count": null,
   "id": "59d5d3b7",
   "metadata": {},
   "outputs": [],
   "source": []
  }
 ],
 "metadata": {
  "kernelspec": {
   "display_name": "Python 3 (ipykernel)",
   "language": "python",
   "name": "python3"
  },
  "language_info": {
   "codemirror_mode": {
    "name": "ipython",
    "version": 3
   },
   "file_extension": ".py",
   "mimetype": "text/x-python",
   "name": "python",
   "nbconvert_exporter": "python",
   "pygments_lexer": "ipython3",
   "version": "3.9.7"
  }
 },
 "nbformat": 4,
 "nbformat_minor": 5
}
